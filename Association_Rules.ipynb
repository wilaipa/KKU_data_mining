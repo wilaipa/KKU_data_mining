{
  "nbformat": 4,
  "nbformat_minor": 0,
  "metadata": {
    "colab": {
      "name": "Association Rules.ipynb",
      "provenance": [],
      "authorship_tag": "ABX9TyN3Lyrd2f/z6XPBNkGg1OLV",
      "include_colab_link": true
    },
    "kernelspec": {
      "name": "python3",
      "display_name": "Python 3"
    }
  },
  "cells": [
    {
      "cell_type": "markdown",
      "metadata": {
        "id": "view-in-github",
        "colab_type": "text"
      },
      "source": [
        "<a href=\"https://colab.research.google.com/github/wilaipa/KKU_data_mining/blob/master/Association_Rules.ipynb\" target=\"_parent\"><img src=\"https://colab.research.google.com/assets/colab-badge.svg\" alt=\"Open In Colab\"/></a>"
      ]
    },
    {
      "cell_type": "code",
      "metadata": {
        "id": "4OdDcM81-YMD"
      },
      "source": [
        "import pandas as pd"
      ],
      "execution_count": 1,
      "outputs": []
    },
    {
      "cell_type": "code",
      "metadata": {
        "id": "7c2tof29-gm9",
        "outputId": "3f75ebf6-c844-4290-d053-d29f1e244700",
        "colab": {
          "base_uri": "https://localhost:8080/",
          "height": 35
        }
      },
      "source": [
        "from google.colab import drive\n",
        "drive.mount('/content/drive')\n",
        "\n",
        "path = '/content/drive/My Drive/DWDM_material'"
      ],
      "execution_count": 2,
      "outputs": [
        {
          "output_type": "stream",
          "text": [
            "Mounted at /content/drive\n"
          ],
          "name": "stdout"
        }
      ]
    },
    {
      "cell_type": "markdown",
      "metadata": {
        "id": "9NDGLGg3_GfB"
      },
      "source": [
        "## Ex ให้หาว่าแต่ละประเทศ ขายสินค้ารวมกันทั้งหมดได้ประเทศละกี่ชิ้น"
      ]
    },
    {
      "cell_type": "code",
      "metadata": {
        "id": "Ym45ty1k_XH7",
        "outputId": "01bd43b7-fcaa-4635-dad8-41884136ed8a",
        "colab": {
          "base_uri": "https://localhost:8080/",
          "height": 407
        }
      },
      "source": [
        "import os\n",
        "data = pd.read_csv(os.path.join (path,'reduced_marketbasket.csv'),encoding='latin1')\n",
        "data"
      ],
      "execution_count": 5,
      "outputs": [
        {
          "output_type": "execute_result",
          "data": {
            "text/html": [
              "<div>\n",
              "<style scoped>\n",
              "    .dataframe tbody tr th:only-of-type {\n",
              "        vertical-align: middle;\n",
              "    }\n",
              "\n",
              "    .dataframe tbody tr th {\n",
              "        vertical-align: top;\n",
              "    }\n",
              "\n",
              "    .dataframe thead th {\n",
              "        text-align: right;\n",
              "    }\n",
              "</style>\n",
              "<table border=\"1\" class=\"dataframe\">\n",
              "  <thead>\n",
              "    <tr style=\"text-align: right;\">\n",
              "      <th></th>\n",
              "      <th>InvoiceNo</th>\n",
              "      <th>StockCode</th>\n",
              "      <th>Description</th>\n",
              "      <th>Quantity</th>\n",
              "      <th>InvoiceDate</th>\n",
              "      <th>UnitPrice</th>\n",
              "      <th>CustomerID</th>\n",
              "      <th>Country</th>\n",
              "    </tr>\n",
              "  </thead>\n",
              "  <tbody>\n",
              "    <tr>\n",
              "      <th>0</th>\n",
              "      <td>536365</td>\n",
              "      <td>85123A</td>\n",
              "      <td>WHITE HANGING HEART T-LIGHT HOLDER</td>\n",
              "      <td>6</td>\n",
              "      <td>12/01/2010 08:26</td>\n",
              "      <td>2.55</td>\n",
              "      <td>17850.0</td>\n",
              "      <td>United Kingdom</td>\n",
              "    </tr>\n",
              "    <tr>\n",
              "      <th>1</th>\n",
              "      <td>536365</td>\n",
              "      <td>71053</td>\n",
              "      <td>WHITE METAL LANTERN</td>\n",
              "      <td>6</td>\n",
              "      <td>12/01/2010 08:26</td>\n",
              "      <td>3.39</td>\n",
              "      <td>17850.0</td>\n",
              "      <td>United Kingdom</td>\n",
              "    </tr>\n",
              "    <tr>\n",
              "      <th>2</th>\n",
              "      <td>536365</td>\n",
              "      <td>84406B</td>\n",
              "      <td>CREAM CUPID HEARTS COAT HANGER</td>\n",
              "      <td>8</td>\n",
              "      <td>12/01/2010 08:26</td>\n",
              "      <td>2.75</td>\n",
              "      <td>17850.0</td>\n",
              "      <td>United Kingdom</td>\n",
              "    </tr>\n",
              "    <tr>\n",
              "      <th>3</th>\n",
              "      <td>536365</td>\n",
              "      <td>84029G</td>\n",
              "      <td>KNITTED UNION FLAG HOT WATER BOTTLE</td>\n",
              "      <td>6</td>\n",
              "      <td>12/01/2010 08:26</td>\n",
              "      <td>3.39</td>\n",
              "      <td>17850.0</td>\n",
              "      <td>United Kingdom</td>\n",
              "    </tr>\n",
              "    <tr>\n",
              "      <th>4</th>\n",
              "      <td>536365</td>\n",
              "      <td>84029E</td>\n",
              "      <td>RED WOOLLY HOTTIE WHITE HEART.</td>\n",
              "      <td>6</td>\n",
              "      <td>12/01/2010 08:26</td>\n",
              "      <td>3.39</td>\n",
              "      <td>17850.0</td>\n",
              "      <td>United Kingdom</td>\n",
              "    </tr>\n",
              "    <tr>\n",
              "      <th>...</th>\n",
              "      <td>...</td>\n",
              "      <td>...</td>\n",
              "      <td>...</td>\n",
              "      <td>...</td>\n",
              "      <td>...</td>\n",
              "      <td>...</td>\n",
              "      <td>...</td>\n",
              "      <td>...</td>\n",
              "    </tr>\n",
              "    <tr>\n",
              "      <th>541904</th>\n",
              "      <td>581587</td>\n",
              "      <td>22613</td>\n",
              "      <td>PACK OF 20 SPACEBOY NAPKINS</td>\n",
              "      <td>12</td>\n",
              "      <td>12/09/2011 12:50</td>\n",
              "      <td>0.85</td>\n",
              "      <td>12680.0</td>\n",
              "      <td>France</td>\n",
              "    </tr>\n",
              "    <tr>\n",
              "      <th>541905</th>\n",
              "      <td>581587</td>\n",
              "      <td>22899</td>\n",
              "      <td>CHILDREN'S APRON DOLLY GIRL</td>\n",
              "      <td>6</td>\n",
              "      <td>12/09/2011 12:50</td>\n",
              "      <td>2.10</td>\n",
              "      <td>12680.0</td>\n",
              "      <td>France</td>\n",
              "    </tr>\n",
              "    <tr>\n",
              "      <th>541906</th>\n",
              "      <td>581587</td>\n",
              "      <td>23254</td>\n",
              "      <td>CHILDRENS CUTLERY DOLLY GIRL</td>\n",
              "      <td>4</td>\n",
              "      <td>12/09/2011 12:50</td>\n",
              "      <td>4.15</td>\n",
              "      <td>12680.0</td>\n",
              "      <td>France</td>\n",
              "    </tr>\n",
              "    <tr>\n",
              "      <th>541907</th>\n",
              "      <td>581587</td>\n",
              "      <td>23255</td>\n",
              "      <td>CHILDRENS CUTLERY CIRCUS PARADE</td>\n",
              "      <td>4</td>\n",
              "      <td>12/09/2011 12:50</td>\n",
              "      <td>4.15</td>\n",
              "      <td>12680.0</td>\n",
              "      <td>France</td>\n",
              "    </tr>\n",
              "    <tr>\n",
              "      <th>541908</th>\n",
              "      <td>581587</td>\n",
              "      <td>22138</td>\n",
              "      <td>BAKING SET 9 PIECE RETROSPOT</td>\n",
              "      <td>3</td>\n",
              "      <td>12/09/2011 12:50</td>\n",
              "      <td>4.95</td>\n",
              "      <td>12680.0</td>\n",
              "      <td>France</td>\n",
              "    </tr>\n",
              "  </tbody>\n",
              "</table>\n",
              "<p>541909 rows × 8 columns</p>\n",
              "</div>"
            ],
            "text/plain": [
              "       InvoiceNo StockCode  ... CustomerID         Country\n",
              "0         536365    85123A  ...    17850.0  United Kingdom\n",
              "1         536365     71053  ...    17850.0  United Kingdom\n",
              "2         536365    84406B  ...    17850.0  United Kingdom\n",
              "3         536365    84029G  ...    17850.0  United Kingdom\n",
              "4         536365    84029E  ...    17850.0  United Kingdom\n",
              "...          ...       ...  ...        ...             ...\n",
              "541904    581587     22613  ...    12680.0          France\n",
              "541905    581587     22899  ...    12680.0          France\n",
              "541906    581587     23254  ...    12680.0          France\n",
              "541907    581587     23255  ...    12680.0          France\n",
              "541908    581587     22138  ...    12680.0          France\n",
              "\n",
              "[541909 rows x 8 columns]"
            ]
          },
          "metadata": {
            "tags": []
          },
          "execution_count": 5
        }
      ]
    },
    {
      "cell_type": "code",
      "metadata": {
        "id": "hVRHAEeN_DeN",
        "outputId": "72f4a4f6-8397-4def-8ec9-2dd55037f94d",
        "colab": {
          "base_uri": "https://localhost:8080/",
          "height": 1000
        }
      },
      "source": [
        "data.groupby('Country').sum().sort_values('Quantity')"
      ],
      "execution_count": 6,
      "outputs": [
        {
          "output_type": "execute_result",
          "data": {
            "text/html": [
              "<div>\n",
              "<style scoped>\n",
              "    .dataframe tbody tr th:only-of-type {\n",
              "        vertical-align: middle;\n",
              "    }\n",
              "\n",
              "    .dataframe tbody tr th {\n",
              "        vertical-align: top;\n",
              "    }\n",
              "\n",
              "    .dataframe thead th {\n",
              "        text-align: right;\n",
              "    }\n",
              "</style>\n",
              "<table border=\"1\" class=\"dataframe\">\n",
              "  <thead>\n",
              "    <tr style=\"text-align: right;\">\n",
              "      <th></th>\n",
              "      <th>Quantity</th>\n",
              "      <th>UnitPrice</th>\n",
              "      <th>CustomerID</th>\n",
              "    </tr>\n",
              "    <tr>\n",
              "      <th>Country</th>\n",
              "      <th></th>\n",
              "      <th></th>\n",
              "      <th></th>\n",
              "    </tr>\n",
              "  </thead>\n",
              "  <tbody>\n",
              "    <tr>\n",
              "      <th>Saudi Arabia</th>\n",
              "      <td>75</td>\n",
              "      <td>2.411000e+01</td>\n",
              "      <td>1.256500e+05</td>\n",
              "    </tr>\n",
              "    <tr>\n",
              "      <th>Bahrain</th>\n",
              "      <td>260</td>\n",
              "      <td>8.657000e+01</td>\n",
              "      <td>2.100270e+05</td>\n",
              "    </tr>\n",
              "    <tr>\n",
              "      <th>RSA</th>\n",
              "      <td>352</td>\n",
              "      <td>2.481000e+02</td>\n",
              "      <td>7.218680e+05</td>\n",
              "    </tr>\n",
              "    <tr>\n",
              "      <th>Brazil</th>\n",
              "      <td>356</td>\n",
              "      <td>1.426000e+02</td>\n",
              "      <td>4.086080e+05</td>\n",
              "    </tr>\n",
              "    <tr>\n",
              "      <th>Lebanon</th>\n",
              "      <td>386</td>\n",
              "      <td>2.424400e+02</td>\n",
              "      <td>5.743800e+05</td>\n",
              "    </tr>\n",
              "    <tr>\n",
              "      <th>European Community</th>\n",
              "      <td>497</td>\n",
              "      <td>2.940500e+02</td>\n",
              "      <td>9.215880e+05</td>\n",
              "    </tr>\n",
              "    <tr>\n",
              "      <th>Czech Republic</th>\n",
              "      <td>592</td>\n",
              "      <td>8.815000e+01</td>\n",
              "      <td>3.834300e+05</td>\n",
              "    </tr>\n",
              "    <tr>\n",
              "      <th>Lithuania</th>\n",
              "      <td>652</td>\n",
              "      <td>9.944000e+01</td>\n",
              "      <td>5.366200e+05</td>\n",
              "    </tr>\n",
              "    <tr>\n",
              "      <th>Malta</th>\n",
              "      <td>944</td>\n",
              "      <td>6.660100e+02</td>\n",
              "      <td>2.158496e+06</td>\n",
              "    </tr>\n",
              "    <tr>\n",
              "      <th>United Arab Emirates</th>\n",
              "      <td>982</td>\n",
              "      <td>2.298900e+02</td>\n",
              "      <td>1.018952e+06</td>\n",
              "    </tr>\n",
              "    <tr>\n",
              "      <th>USA</th>\n",
              "      <td>1034</td>\n",
              "      <td>6.449800e+02</td>\n",
              "      <td>3.672086e+06</td>\n",
              "    </tr>\n",
              "    <tr>\n",
              "      <th>Greece</th>\n",
              "      <td>1556</td>\n",
              "      <td>7.132900e+02</td>\n",
              "      <td>2.008584e+06</td>\n",
              "    </tr>\n",
              "    <tr>\n",
              "      <th>Iceland</th>\n",
              "      <td>2458</td>\n",
              "      <td>4.812100e+02</td>\n",
              "      <td>2.247154e+06</td>\n",
              "    </tr>\n",
              "    <tr>\n",
              "      <th>Canada</th>\n",
              "      <td>2763</td>\n",
              "      <td>9.105800e+02</td>\n",
              "      <td>2.615483e+06</td>\n",
              "    </tr>\n",
              "    <tr>\n",
              "      <th>Unspecified</th>\n",
              "      <td>3300</td>\n",
              "      <td>1.204010e+03</td>\n",
              "      <td>3.348046e+06</td>\n",
              "    </tr>\n",
              "    <tr>\n",
              "      <th>Poland</th>\n",
              "      <td>3653</td>\n",
              "      <td>1.422270e+03</td>\n",
              "      <td>4.341972e+06</td>\n",
              "    </tr>\n",
              "    <tr>\n",
              "      <th>Israel</th>\n",
              "      <td>4353</td>\n",
              "      <td>1.079040e+03</td>\n",
              "      <td>3.164467e+06</td>\n",
              "    </tr>\n",
              "    <tr>\n",
              "      <th>Hong Kong</th>\n",
              "      <td>4769</td>\n",
              "      <td>1.224150e+04</td>\n",
              "      <td>0.000000e+00</td>\n",
              "    </tr>\n",
              "    <tr>\n",
              "      <th>Austria</th>\n",
              "      <td>4827</td>\n",
              "      <td>1.701520e+03</td>\n",
              "      <td>5.021102e+06</td>\n",
              "    </tr>\n",
              "    <tr>\n",
              "      <th>Singapore</th>\n",
              "      <td>5234</td>\n",
              "      <td>2.510889e+04</td>\n",
              "      <td>2.918376e+06</td>\n",
              "    </tr>\n",
              "    <tr>\n",
              "      <th>Cyprus</th>\n",
              "      <td>6317</td>\n",
              "      <td>3.920070e+03</td>\n",
              "      <td>7.715880e+06</td>\n",
              "    </tr>\n",
              "    <tr>\n",
              "      <th>Italy</th>\n",
              "      <td>7999</td>\n",
              "      <td>3.879390e+03</td>\n",
              "      <td>1.015666e+07</td>\n",
              "    </tr>\n",
              "    <tr>\n",
              "      <th>Denmark</th>\n",
              "      <td>8188</td>\n",
              "      <td>1.266950e+03</td>\n",
              "      <td>4.876734e+06</td>\n",
              "    </tr>\n",
              "    <tr>\n",
              "      <th>Channel Islands</th>\n",
              "      <td>9479</td>\n",
              "      <td>3.738550e+03</td>\n",
              "      <td>1.128522e+07</td>\n",
              "    </tr>\n",
              "    <tr>\n",
              "      <th>Finland</th>\n",
              "      <td>10666</td>\n",
              "      <td>3.786850e+03</td>\n",
              "      <td>8.699324e+06</td>\n",
              "    </tr>\n",
              "    <tr>\n",
              "      <th>Portugal</th>\n",
              "      <td>16180</td>\n",
              "      <td>1.303754e+04</td>\n",
              "      <td>1.886480e+07</td>\n",
              "    </tr>\n",
              "    <tr>\n",
              "      <th>Norway</th>\n",
              "      <td>19247</td>\n",
              "      <td>6.529060e+03</td>\n",
              "      <td>1.350765e+07</td>\n",
              "    </tr>\n",
              "    <tr>\n",
              "      <th>Belgium</th>\n",
              "      <td>23152</td>\n",
              "      <td>7.540130e+03</td>\n",
              "      <td>2.571829e+07</td>\n",
              "    </tr>\n",
              "    <tr>\n",
              "      <th>Japan</th>\n",
              "      <td>25218</td>\n",
              "      <td>8.148600e+02</td>\n",
              "      <td>4.567292e+06</td>\n",
              "    </tr>\n",
              "    <tr>\n",
              "      <th>Spain</th>\n",
              "      <td>26824</td>\n",
              "      <td>1.263345e+04</td>\n",
              "      <td>3.268929e+07</td>\n",
              "    </tr>\n",
              "    <tr>\n",
              "      <th>Switzerland</th>\n",
              "      <td>30325</td>\n",
              "      <td>6.813690e+03</td>\n",
              "      <td>2.377592e+07</td>\n",
              "    </tr>\n",
              "    <tr>\n",
              "      <th>Sweden</th>\n",
              "      <td>35637</td>\n",
              "      <td>1.806830e+03</td>\n",
              "      <td>6.790083e+06</td>\n",
              "    </tr>\n",
              "    <tr>\n",
              "      <th>Australia</th>\n",
              "      <td>83653</td>\n",
              "      <td>4.054750e+03</td>\n",
              "      <td>1.569300e+07</td>\n",
              "    </tr>\n",
              "    <tr>\n",
              "      <th>France</th>\n",
              "      <td>110480</td>\n",
              "      <td>4.303199e+04</td>\n",
              "      <td>1.076489e+08</td>\n",
              "    </tr>\n",
              "    <tr>\n",
              "      <th>Germany</th>\n",
              "      <td>117448</td>\n",
              "      <td>3.766600e+04</td>\n",
              "      <td>1.200751e+08</td>\n",
              "    </tr>\n",
              "    <tr>\n",
              "      <th>EIRE</th>\n",
              "      <td>142637</td>\n",
              "      <td>4.844719e+04</td>\n",
              "      <td>1.103917e+08</td>\n",
              "    </tr>\n",
              "    <tr>\n",
              "      <th>Netherlands</th>\n",
              "      <td>200128</td>\n",
              "      <td>6.492550e+03</td>\n",
              "      <td>3.419054e+07</td>\n",
              "    </tr>\n",
              "    <tr>\n",
              "      <th>United Kingdom</th>\n",
              "      <td>4263829</td>\n",
              "      <td>2.245715e+06</td>\n",
              "      <td>5.626433e+09</td>\n",
              "    </tr>\n",
              "  </tbody>\n",
              "</table>\n",
              "</div>"
            ],
            "text/plain": [
              "                      Quantity     UnitPrice    CustomerID\n",
              "Country                                                   \n",
              "Saudi Arabia                75  2.411000e+01  1.256500e+05\n",
              "Bahrain                    260  8.657000e+01  2.100270e+05\n",
              "RSA                        352  2.481000e+02  7.218680e+05\n",
              "Brazil                     356  1.426000e+02  4.086080e+05\n",
              "Lebanon                    386  2.424400e+02  5.743800e+05\n",
              "European Community         497  2.940500e+02  9.215880e+05\n",
              "Czech Republic             592  8.815000e+01  3.834300e+05\n",
              "Lithuania                  652  9.944000e+01  5.366200e+05\n",
              "Malta                      944  6.660100e+02  2.158496e+06\n",
              "United Arab Emirates       982  2.298900e+02  1.018952e+06\n",
              "USA                       1034  6.449800e+02  3.672086e+06\n",
              "Greece                    1556  7.132900e+02  2.008584e+06\n",
              "Iceland                   2458  4.812100e+02  2.247154e+06\n",
              "Canada                    2763  9.105800e+02  2.615483e+06\n",
              "Unspecified               3300  1.204010e+03  3.348046e+06\n",
              "Poland                    3653  1.422270e+03  4.341972e+06\n",
              "Israel                    4353  1.079040e+03  3.164467e+06\n",
              "Hong Kong                 4769  1.224150e+04  0.000000e+00\n",
              "Austria                   4827  1.701520e+03  5.021102e+06\n",
              "Singapore                 5234  2.510889e+04  2.918376e+06\n",
              "Cyprus                    6317  3.920070e+03  7.715880e+06\n",
              "Italy                     7999  3.879390e+03  1.015666e+07\n",
              "Denmark                   8188  1.266950e+03  4.876734e+06\n",
              "Channel Islands           9479  3.738550e+03  1.128522e+07\n",
              "Finland                  10666  3.786850e+03  8.699324e+06\n",
              "Portugal                 16180  1.303754e+04  1.886480e+07\n",
              "Norway                   19247  6.529060e+03  1.350765e+07\n",
              "Belgium                  23152  7.540130e+03  2.571829e+07\n",
              "Japan                    25218  8.148600e+02  4.567292e+06\n",
              "Spain                    26824  1.263345e+04  3.268929e+07\n",
              "Switzerland              30325  6.813690e+03  2.377592e+07\n",
              "Sweden                   35637  1.806830e+03  6.790083e+06\n",
              "Australia                83653  4.054750e+03  1.569300e+07\n",
              "France                  110480  4.303199e+04  1.076489e+08\n",
              "Germany                 117448  3.766600e+04  1.200751e+08\n",
              "EIRE                    142637  4.844719e+04  1.103917e+08\n",
              "Netherlands             200128  6.492550e+03  3.419054e+07\n",
              "United Kingdom         4263829  2.245715e+06  5.626433e+09"
            ]
          },
          "metadata": {
            "tags": []
          },
          "execution_count": 6
        }
      ]
    },
    {
      "cell_type": "code",
      "metadata": {
        "id": "MhkBcjmp_7gN",
        "outputId": "ad214e7c-8ffa-4520-fa33-d2a91a975436",
        "colab": {
          "base_uri": "https://localhost:8080/",
          "height": 242
        }
      },
      "source": [
        "transacs = data.groupby('InvoiceNo')['StockCode'].apply(list)\n",
        "transacs"
      ],
      "execution_count": 9,
      "outputs": [
        {
          "output_type": "execute_result",
          "data": {
            "text/plain": [
              "InvoiceNo\n",
              "536365     [85123A, 71053, 84406B, 84029G, 84029E, 22752,...\n",
              "536366                                        [22633, 22632]\n",
              "536367     [84879, 22745, 22748, 22749, 22310, 84969, 226...\n",
              "536368                          [22960, 22913, 22912, 22914]\n",
              "536369                                               [21756]\n",
              "                                 ...                        \n",
              "C581484                                              [23843]\n",
              "C581490                                       [22178, 23144]\n",
              "C581499                                                  [M]\n",
              "C581568                                              [21258]\n",
              "C581569                                       [84978, 20979]\n",
              "Name: StockCode, Length: 25900, dtype: object"
            ]
          },
          "metadata": {
            "tags": []
          },
          "execution_count": 9
        }
      ]
    },
    {
      "cell_type": "markdown",
      "metadata": {
        "id": "eGN2nTVUC70U"
      },
      "source": [
        "## Apriori"
      ]
    },
    {
      "cell_type": "code",
      "metadata": {
        "id": "9Jjp5LCeBp7d",
        "outputId": "bd20c8a7-fbbf-42ba-b2b8-4c88a3e2ea35",
        "colab": {
          "base_uri": "https://localhost:8080/",
          "height": 173
        }
      },
      "source": [
        "!pip install apyori"
      ],
      "execution_count": 10,
      "outputs": [
        {
          "output_type": "stream",
          "text": [
            "Collecting apyori\n",
            "  Downloading https://files.pythonhosted.org/packages/5e/62/5ffde5c473ea4b033490617ec5caa80d59804875ad3c3c57c0976533a21a/apyori-1.1.2.tar.gz\n",
            "Building wheels for collected packages: apyori\n",
            "  Building wheel for apyori (setup.py) ... \u001b[?25l\u001b[?25hdone\n",
            "  Created wheel for apyori: filename=apyori-1.1.2-cp36-none-any.whl size=5975 sha256=4d14a14e601cdb531d556cbcf67a05026f371b7b8011de30901f2fe1b348d4e9\n",
            "  Stored in directory: /root/.cache/pip/wheels/5d/92/bb/474bbadbc8c0062b9eb168f69982a0443263f8ab1711a8cad0\n",
            "Successfully built apyori\n",
            "Installing collected packages: apyori\n",
            "Successfully installed apyori-1.1.2\n"
          ],
          "name": "stdout"
        }
      ]
    },
    {
      "cell_type": "code",
      "metadata": {
        "id": "M7zMO8zmCrnN"
      },
      "source": [
        "from apyori import apriori"
      ],
      "execution_count": 12,
      "outputs": []
    },
    {
      "cell_type": "code",
      "metadata": {
        "id": "gXfqWX47Crys",
        "outputId": "a8bae202-a7b5-44d7-8a7d-87dfe7d6e660",
        "colab": {
          "base_uri": "https://localhost:8080/",
          "height": 1000
        }
      },
      "source": [
        "list(apriori(transacs, min_support = 0.03, min_confidence = 0.01))"
      ],
      "execution_count": 24,
      "outputs": [
        {
          "output_type": "execute_result",
          "data": {
            "text/plain": [
              "[RelationRecord(items=frozenset({'20712'}), support=0.033667953667953665, ordered_statistics=[OrderedStatistic(items_base=frozenset(), items_add=frozenset({'20712'}), confidence=0.033667953667953665, lift=1.0)]),\n",
              " RelationRecord(items=frozenset({'20719'}), support=0.03254826254826255, ordered_statistics=[OrderedStatistic(items_base=frozenset(), items_add=frozenset({'20719'}), confidence=0.03254826254826255, lift=1.0)]),\n",
              " RelationRecord(items=frozenset({'20724'}), support=0.04054054054054054, ordered_statistics=[OrderedStatistic(items_base=frozenset(), items_add=frozenset({'20724'}), confidence=0.04054054054054054, lift=1.0)]),\n",
              " RelationRecord(items=frozenset({'20725'}), support=0.062084942084942085, ordered_statistics=[OrderedStatistic(items_base=frozenset(), items_add=frozenset({'20725'}), confidence=0.062084942084942085, lift=1.0)]),\n",
              " RelationRecord(items=frozenset({'20726'}), support=0.04003861003861004, ordered_statistics=[OrderedStatistic(items_base=frozenset(), items_add=frozenset({'20726'}), confidence=0.04003861003861004, lift=1.0)]),\n",
              " RelationRecord(items=frozenset({'20727'}), support=0.05, ordered_statistics=[OrderedStatistic(items_base=frozenset(), items_add=frozenset({'20727'}), confidence=0.05, lift=1.0)]),\n",
              " RelationRecord(items=frozenset({'20728'}), support=0.04528957528957529, ordered_statistics=[OrderedStatistic(items_base=frozenset(), items_add=frozenset({'20728'}), confidence=0.04528957528957529, lift=1.0)]),\n",
              " RelationRecord(items=frozenset({'20914'}), support=0.03528957528957529, ordered_statistics=[OrderedStatistic(items_base=frozenset(), items_add=frozenset({'20914'}), confidence=0.03528957528957529, lift=1.0)]),\n",
              " RelationRecord(items=frozenset({'21034'}), support=0.033745173745173745, ordered_statistics=[OrderedStatistic(items_base=frozenset(), items_add=frozenset({'21034'}), confidence=0.033745173745173745, lift=1.0)]),\n",
              " RelationRecord(items=frozenset({'21080'}), support=0.03814671814671815, ordered_statistics=[OrderedStatistic(items_base=frozenset(), items_add=frozenset({'21080'}), confidence=0.03814671814671815, lift=1.0)]),\n",
              " RelationRecord(items=frozenset({'21175'}), support=0.031544401544401544, ordered_statistics=[OrderedStatistic(items_base=frozenset(), items_add=frozenset({'21175'}), confidence=0.031544401544401544, lift=1.0)]),\n",
              " RelationRecord(items=frozenset({'21181'}), support=0.033281853281853284, ordered_statistics=[OrderedStatistic(items_base=frozenset(), items_add=frozenset({'21181'}), confidence=0.033281853281853284, lift=1.0)]),\n",
              " RelationRecord(items=frozenset({'21212'}), support=0.05150579150579151, ordered_statistics=[OrderedStatistic(items_base=frozenset(), items_add=frozenset({'21212'}), confidence=0.05150579150579151, lift=1.0)]),\n",
              " RelationRecord(items=frozenset({'21232'}), support=0.03428571428571429, ordered_statistics=[OrderedStatistic(items_base=frozenset(), items_add=frozenset({'21232'}), confidence=0.03428571428571429, lift=1.0)]),\n",
              " RelationRecord(items=frozenset({'21731'}), support=0.033243243243243244, ordered_statistics=[OrderedStatistic(items_base=frozenset(), items_add=frozenset({'21731'}), confidence=0.033243243243243244, lift=1.0)]),\n",
              " RelationRecord(items=frozenset({'21754'}), support=0.030386100386100387, ordered_statistics=[OrderedStatistic(items_base=frozenset(), items_add=frozenset({'21754'}), confidence=0.030386100386100387, lift=1.0)]),\n",
              " RelationRecord(items=frozenset({'21790'}), support=0.035868725868725866, ordered_statistics=[OrderedStatistic(items_base=frozenset(), items_add=frozenset({'21790'}), confidence=0.035868725868725866, lift=1.0)]),\n",
              " RelationRecord(items=frozenset({'21928'}), support=0.031505791505791504, ordered_statistics=[OrderedStatistic(items_base=frozenset(), items_add=frozenset({'21928'}), confidence=0.031505791505791504, lift=1.0)]),\n",
              " RelationRecord(items=frozenset({'21929'}), support=0.03386100386100386, ordered_statistics=[OrderedStatistic(items_base=frozenset(), items_add=frozenset({'21929'}), confidence=0.03386100386100386, lift=1.0)]),\n",
              " RelationRecord(items=frozenset({'21931'}), support=0.04637065637065637, ordered_statistics=[OrderedStatistic(items_base=frozenset(), items_add=frozenset({'21931'}), confidence=0.04637065637065637, lift=1.0)]),\n",
              " RelationRecord(items=frozenset({'21977'}), support=0.033783783783783786, ordered_statistics=[OrderedStatistic(items_base=frozenset(), items_add=frozenset({'21977'}), confidence=0.033783783783783786, lift=1.0)]),\n",
              " RelationRecord(items=frozenset({'22077'}), support=0.037104247104247104, ordered_statistics=[OrderedStatistic(items_base=frozenset(), items_add=frozenset({'22077'}), confidence=0.037104247104247104, lift=1.0)]),\n",
              " RelationRecord(items=frozenset({'22086'}), support=0.04517374517374517, ordered_statistics=[OrderedStatistic(items_base=frozenset(), items_add=frozenset({'22086'}), confidence=0.04517374517374517, lift=1.0)]),\n",
              " RelationRecord(items=frozenset({'22090'}), support=0.03111969111969112, ordered_statistics=[OrderedStatistic(items_base=frozenset(), items_add=frozenset({'22090'}), confidence=0.03111969111969112, lift=1.0)]),\n",
              " RelationRecord(items=frozenset({'22111'}), support=0.03003861003861004, ordered_statistics=[OrderedStatistic(items_base=frozenset(), items_add=frozenset({'22111'}), confidence=0.03003861003861004, lift=1.0)]),\n",
              " RelationRecord(items=frozenset({'22112'}), support=0.03343629343629344, ordered_statistics=[OrderedStatistic(items_base=frozenset(), items_add=frozenset({'22112'}), confidence=0.03343629343629344, lift=1.0)]),\n",
              " RelationRecord(items=frozenset({'22138'}), support=0.037104247104247104, ordered_statistics=[OrderedStatistic(items_base=frozenset(), items_add=frozenset({'22138'}), confidence=0.037104247104247104, lift=1.0)]),\n",
              " RelationRecord(items=frozenset({'22139'}), support=0.037953667953667954, ordered_statistics=[OrderedStatistic(items_base=frozenset(), items_add=frozenset({'22139'}), confidence=0.037953667953667954, lift=1.0)]),\n",
              " RelationRecord(items=frozenset({'22178'}), support=0.041003861003861004, ordered_statistics=[OrderedStatistic(items_base=frozenset(), items_add=frozenset({'22178'}), confidence=0.041003861003861004, lift=1.0)]),\n",
              " RelationRecord(items=frozenset({'22197'}), support=0.055675675675675676, ordered_statistics=[OrderedStatistic(items_base=frozenset(), items_add=frozenset({'22197'}), confidence=0.055675675675675676, lift=1.0)]),\n",
              " RelationRecord(items=frozenset({'22355'}), support=0.034555984555984555, ordered_statistics=[OrderedStatistic(items_base=frozenset(), items_add=frozenset({'22355'}), confidence=0.034555984555984555, lift=1.0)]),\n",
              " RelationRecord(items=frozenset({'22382'}), support=0.04517374517374517, ordered_statistics=[OrderedStatistic(items_base=frozenset(), items_add=frozenset({'22382'}), confidence=0.04517374517374517, lift=1.0)]),\n",
              " RelationRecord(items=frozenset({'22383'}), support=0.050424710424710424, ordered_statistics=[OrderedStatistic(items_base=frozenset(), items_add=frozenset({'22383'}), confidence=0.050424710424710424, lift=1.0)]),\n",
              " RelationRecord(items=frozenset({'22384'}), support=0.04285714285714286, ordered_statistics=[OrderedStatistic(items_base=frozenset(), items_add=frozenset({'22384'}), confidence=0.04285714285714286, lift=1.0)]),\n",
              " RelationRecord(items=frozenset({'22386'}), support=0.04752895752895753, ordered_statistics=[OrderedStatistic(items_base=frozenset(), items_add=frozenset({'22386'}), confidence=0.04752895752895753, lift=1.0)]),\n",
              " RelationRecord(items=frozenset({'22411'}), support=0.04583011583011583, ordered_statistics=[OrderedStatistic(items_base=frozenset(), items_add=frozenset({'22411'}), confidence=0.04583011583011583, lift=1.0)]),\n",
              " RelationRecord(items=frozenset({'22423'}), support=0.08386100386100385, ordered_statistics=[OrderedStatistic(items_base=frozenset(), items_add=frozenset({'22423'}), confidence=0.08386100386100385, lift=1.0)]),\n",
              " RelationRecord(items=frozenset({'22457'}), support=0.04888030888030888, ordered_statistics=[OrderedStatistic(items_base=frozenset(), items_add=frozenset({'22457'}), confidence=0.04888030888030888, lift=1.0)]),\n",
              " RelationRecord(items=frozenset({'22469'}), support=0.04687258687258687, ordered_statistics=[OrderedStatistic(items_base=frozenset(), items_add=frozenset({'22469'}), confidence=0.04687258687258687, lift=1.0)]),\n",
              " RelationRecord(items=frozenset({'22470'}), support=0.03644787644787645, ordered_statistics=[OrderedStatistic(items_base=frozenset(), items_add=frozenset({'22470'}), confidence=0.03644787644787645, lift=1.0)]),\n",
              " RelationRecord(items=frozenset({'22558'}), support=0.030231660231660233, ordered_statistics=[OrderedStatistic(items_base=frozenset(), items_add=frozenset({'22558'}), confidence=0.030231660231660233, lift=1.0)]),\n",
              " RelationRecord(items=frozenset({'22629'}), support=0.03505791505791506, ordered_statistics=[OrderedStatistic(items_base=frozenset(), items_add=frozenset({'22629'}), confidence=0.03505791505791506, lift=1.0)]),\n",
              " RelationRecord(items=frozenset({'22630'}), support=0.033204633204633204, ordered_statistics=[OrderedStatistic(items_base=frozenset(), items_add=frozenset({'22630'}), confidence=0.033204633204633204, lift=1.0)]),\n",
              " RelationRecord(items=frozenset({'22666'}), support=0.044942084942084945, ordered_statistics=[OrderedStatistic(items_base=frozenset(), items_add=frozenset({'22666'}), confidence=0.044942084942084945, lift=1.0)]),\n",
              " RelationRecord(items=frozenset({'22697'}), support=0.04081081081081081, ordered_statistics=[OrderedStatistic(items_base=frozenset(), items_add=frozenset({'22697'}), confidence=0.04081081081081081, lift=1.0)]),\n",
              " RelationRecord(items=frozenset({'22698'}), support=0.030965250965250966, ordered_statistics=[OrderedStatistic(items_base=frozenset(), items_add=frozenset({'22698'}), confidence=0.030965250965250966, lift=1.0)]),\n",
              " RelationRecord(items=frozenset({'22699'}), support=0.043243243243243246, ordered_statistics=[OrderedStatistic(items_base=frozenset(), items_add=frozenset({'22699'}), confidence=0.043243243243243246, lift=1.0)]),\n",
              " RelationRecord(items=frozenset({'22720'}), support=0.056447876447876445, ordered_statistics=[OrderedStatistic(items_base=frozenset(), items_add=frozenset({'22720'}), confidence=0.056447876447876445, lift=1.0)]),\n",
              " RelationRecord(items=frozenset({'22722'}), support=0.03274131274131274, ordered_statistics=[OrderedStatistic(items_base=frozenset(), items_add=frozenset({'22722'}), confidence=0.03274131274131274, lift=1.0)]),\n",
              " RelationRecord(items=frozenset({'22726'}), support=0.03872586872586872, ordered_statistics=[OrderedStatistic(items_base=frozenset(), items_add=frozenset({'22726'}), confidence=0.03872586872586872, lift=1.0)]),\n",
              " RelationRecord(items=frozenset({'22727'}), support=0.04173745173745174, ordered_statistics=[OrderedStatistic(items_base=frozenset(), items_add=frozenset({'22727'}), confidence=0.04173745173745174, lift=1.0)]),\n",
              " RelationRecord(items=frozenset({'22728'}), support=0.03084942084942085, ordered_statistics=[OrderedStatistic(items_base=frozenset(), items_add=frozenset({'22728'}), confidence=0.03084942084942085, lift=1.0)]),\n",
              " RelationRecord(items=frozenset({'22910'}), support=0.032123552123552127, ordered_statistics=[OrderedStatistic(items_base=frozenset(), items_add=frozenset({'22910'}), confidence=0.032123552123552127, lift=1.0)]),\n",
              " RelationRecord(items=frozenset({'22960'}), support=0.047104247104247106, ordered_statistics=[OrderedStatistic(items_base=frozenset(), items_add=frozenset({'22960'}), confidence=0.047104247104247106, lift=1.0)]),\n",
              " RelationRecord(items=frozenset({'22961'}), support=0.045328185328185326, ordered_statistics=[OrderedStatistic(items_base=frozenset(), items_add=frozenset({'22961'}), confidence=0.045328185328185326, lift=1.0)]),\n",
              " RelationRecord(items=frozenset({'22993'}), support=0.041776061776061774, ordered_statistics=[OrderedStatistic(items_base=frozenset(), items_add=frozenset({'22993'}), confidence=0.041776061776061774, lift=1.0)]),\n",
              " RelationRecord(items=frozenset({'23084'}), support=0.03957528957528957, ordered_statistics=[OrderedStatistic(items_base=frozenset(), items_add=frozenset({'23084'}), confidence=0.03957528957528957, lift=1.0)]),\n",
              " RelationRecord(items=frozenset({'23199'}), support=0.03857142857142857, ordered_statistics=[OrderedStatistic(items_base=frozenset(), items_add=frozenset({'23199'}), confidence=0.03857142857142857, lift=1.0)]),\n",
              " RelationRecord(items=frozenset({'23201'}), support=0.03552123552123552, ordered_statistics=[OrderedStatistic(items_base=frozenset(), items_add=frozenset({'23201'}), confidence=0.03552123552123552, lift=1.0)]),\n",
              " RelationRecord(items=frozenset({'23202'}), support=0.03420849420849421, ordered_statistics=[OrderedStatistic(items_base=frozenset(), items_add=frozenset({'23202'}), confidence=0.03420849420849421, lift=1.0)]),\n",
              " RelationRecord(items=frozenset({'23203'}), support=0.04822393822393822, ordered_statistics=[OrderedStatistic(items_base=frozenset(), items_add=frozenset({'23203'}), confidence=0.04822393822393822, lift=1.0)]),\n",
              " RelationRecord(items=frozenset({'23206'}), support=0.0405019305019305, ordered_statistics=[OrderedStatistic(items_base=frozenset(), items_add=frozenset({'23206'}), confidence=0.0405019305019305, lift=1.0)]),\n",
              " RelationRecord(items=frozenset({'23209'}), support=0.04285714285714286, ordered_statistics=[OrderedStatistic(items_base=frozenset(), items_add=frozenset({'23209'}), confidence=0.04285714285714286, lift=1.0)]),\n",
              " RelationRecord(items=frozenset({'23245'}), support=0.03513513513513514, ordered_statistics=[OrderedStatistic(items_base=frozenset(), items_add=frozenset({'23245'}), confidence=0.03513513513513514, lift=1.0)]),\n",
              " RelationRecord(items=frozenset({'23298'}), support=0.04474903474903475, ordered_statistics=[OrderedStatistic(items_base=frozenset(), items_add=frozenset({'23298'}), confidence=0.04474903474903475, lift=1.0)]),\n",
              " RelationRecord(items=frozenset({'23301'}), support=0.03567567567567568, ordered_statistics=[OrderedStatistic(items_base=frozenset(), items_add=frozenset({'23301'}), confidence=0.03567567567567568, lift=1.0)]),\n",
              " RelationRecord(items=frozenset({'23355'}), support=0.0305019305019305, ordered_statistics=[OrderedStatistic(items_base=frozenset(), items_add=frozenset({'23355'}), confidence=0.0305019305019305, lift=1.0)]),\n",
              " RelationRecord(items=frozenset({'47566'}), support=0.06586872586872587, ordered_statistics=[OrderedStatistic(items_base=frozenset(), items_add=frozenset({'47566'}), confidence=0.06586872586872587, lift=1.0)]),\n",
              " RelationRecord(items=frozenset({'82482'}), support=0.043166023166023165, ordered_statistics=[OrderedStatistic(items_base=frozenset(), items_add=frozenset({'82482'}), confidence=0.043166023166023165, lift=1.0)]),\n",
              " RelationRecord(items=frozenset({'82494L'}), support=0.03594594594594595, ordered_statistics=[OrderedStatistic(items_base=frozenset(), items_add=frozenset({'82494L'}), confidence=0.03594594594594595, lift=1.0)]),\n",
              " RelationRecord(items=frozenset({'84879'}), support=0.05667953667953668, ordered_statistics=[OrderedStatistic(items_base=frozenset(), items_add=frozenset({'84879'}), confidence=0.05667953667953668, lift=1.0)]),\n",
              " RelationRecord(items=frozenset({'84946'}), support=0.03598455598455599, ordered_statistics=[OrderedStatistic(items_base=frozenset(), items_add=frozenset({'84946'}), confidence=0.03598455598455599, lift=1.0)]),\n",
              " RelationRecord(items=frozenset({'84991'}), support=0.03227799227799228, ordered_statistics=[OrderedStatistic(items_base=frozenset(), items_add=frozenset({'84991'}), confidence=0.03227799227799228, lift=1.0)]),\n",
              " RelationRecord(items=frozenset({'85099B'}), support=0.08243243243243244, ordered_statistics=[OrderedStatistic(items_base=frozenset(), items_add=frozenset({'85099B'}), confidence=0.08243243243243244, lift=1.0)]),\n",
              " RelationRecord(items=frozenset({'85099C'}), support=0.03656370656370656, ordered_statistics=[OrderedStatistic(items_base=frozenset(), items_add=frozenset({'85099C'}), confidence=0.03656370656370656, lift=1.0)]),\n",
              " RelationRecord(items=frozenset({'85099F'}), support=0.032046332046332046, ordered_statistics=[OrderedStatistic(items_base=frozenset(), items_add=frozenset({'85099F'}), confidence=0.032046332046332046, lift=1.0)]),\n",
              " RelationRecord(items=frozenset({'85123A'}), support=0.08671814671814672, ordered_statistics=[OrderedStatistic(items_base=frozenset(), items_add=frozenset({'85123A'}), confidence=0.08671814671814672, lift=1.0)]),\n",
              " RelationRecord(items=frozenset({'POST'}), support=0.04841698841698842, ordered_statistics=[OrderedStatistic(items_base=frozenset(), items_add=frozenset({'POST'}), confidence=0.04841698841698842, lift=1.0)]),\n",
              " RelationRecord(items=frozenset({'85099B', '22386'}), support=0.03216216216216216, ordered_statistics=[OrderedStatistic(items_base=frozenset(), items_add=frozenset({'85099B', '22386'}), confidence=0.03216216216216216, lift=1.0), OrderedStatistic(items_base=frozenset({'22386'}), items_add=frozenset({'85099B'}), confidence=0.6766856214459789, lift=8.20897311262335), OrderedStatistic(items_base=frozenset({'85099B'}), items_add=frozenset({'22386'}), confidence=0.39016393442622943, lift=8.20897311262335)]),\n",
              " RelationRecord(items=frozenset({'22697', '22699'}), support=0.03027027027027027, ordered_statistics=[OrderedStatistic(items_base=frozenset(), items_add=frozenset({'22697', '22699'}), confidence=0.03027027027027027, lift=1.0), OrderedStatistic(items_base=frozenset({'22697'}), items_add=frozenset({'22699'}), confidence=0.7417218543046358, lift=17.1523178807947), OrderedStatistic(items_base=frozenset({'22699'}), items_add=frozenset({'22697'}), confidence=0.7, lift=17.1523178807947)])]"
            ]
          },
          "metadata": {
            "tags": []
          },
          "execution_count": 24
        }
      ]
    },
    {
      "cell_type": "code",
      "metadata": {
        "id": "S2AIMmM3Cram",
        "outputId": "dfcc279f-d8b2-4801-a560-d0c510efddf6",
        "colab": {
          "base_uri": "https://localhost:8080/",
          "height": 35
        }
      },
      "source": [
        "out = list(apriori(transacs, min_support = 0.03, min_confidence = 0.01))\n",
        "out[0]"
      ],
      "execution_count": 25,
      "outputs": [
        {
          "output_type": "execute_result",
          "data": {
            "text/plain": [
              "RelationRecord(items=frozenset({'20712'}), support=0.033667953667953665, ordered_statistics=[OrderedStatistic(items_base=frozenset(), items_add=frozenset({'20712'}), confidence=0.033667953667953665, lift=1.0)])"
            ]
          },
          "metadata": {
            "tags": []
          },
          "execution_count": 25
        }
      ]
    },
    {
      "cell_type": "markdown",
      "metadata": {
        "id": "nniDpeelKW-6"
      },
      "source": [
        "### Quiz หา k-itemset ที่มีความสนใจ(โดยพิจารณาลูกค้าเป็นรายคน)พร้อมทั้งอธิบายว่าน่าสนใจยังไง"
      ]
    },
    {
      "cell_type": "code",
      "metadata": {
        "id": "XXr0ewrgKuTz",
        "outputId": "bc304935-a897-4fd5-aaf5-737090cf6cba",
        "colab": {
          "base_uri": "https://localhost:8080/",
          "height": 35
        }
      },
      "source": [
        "data.groupby('Country').sum().sort_values('Quantity')\n",
        "\n",
        "transacs = data.groupby('InvoiceNo')['StockCode'].apply(list)\n",
        "transacs\n",
        "\n",
        "out = list(apriori(transacs, min_support = 0.03, min_confidence = 0.01))\n",
        "out[0]"
      ],
      "execution_count": 27,
      "outputs": [
        {
          "output_type": "execute_result",
          "data": {
            "text/plain": [
              "RelationRecord(items=frozenset({'20712'}), support=0.033667953667953665, ordered_statistics=[OrderedStatistic(items_base=frozenset(), items_add=frozenset({'20712'}), confidence=0.033667953667953665, lift=1.0)])"
            ]
          },
          "metadata": {
            "tags": []
          },
          "execution_count": 27
        }
      ]
    },
    {
      "cell_type": "markdown",
      "metadata": {
        "id": "6dxm8SedPMSA"
      },
      "source": [
        "(แนวข้อสอบ) เปรียบเทียบรูปแบบที่น่าสนใจของสองประเทศ"
      ]
    }
  ]
}