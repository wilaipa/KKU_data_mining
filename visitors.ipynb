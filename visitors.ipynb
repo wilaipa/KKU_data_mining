{
  "nbformat": 4,
  "nbformat_minor": 0,
  "metadata": {
    "colab": {
      "name": "visitors.ipynb",
      "provenance": [],
      "include_colab_link": true
    },
    "kernelspec": {
      "name": "python3",
      "display_name": "Python 3"
    }
  },
  "cells": [
    {
      "cell_type": "markdown",
      "metadata": {
        "id": "view-in-github",
        "colab_type": "text"
      },
      "source": [
        "<a href=\"https://colab.research.google.com/github/wilaipa/KKU_data_mining/blob/master/visitors.ipynb\" target=\"_parent\"><img src=\"https://colab.research.google.com/assets/colab-badge.svg\" alt=\"Open In Colab\"/></a>"
      ]
    },
    {
      "cell_type": "markdown",
      "metadata": {
        "id": "OdeTPnOddeIw"
      },
      "source": [
        "##อันดับแรกเลือก packages"
      ]
    },
    {
      "cell_type": "markdown",
      "metadata": {
        "id": "czdUqooJD1YM"
      },
      "source": [
        "การเรียกใช้ package ที่ชื่อว่า pandas"
      ]
    },
    {
      "cell_type": "code",
      "metadata": {
        "id": "i8IxcN3IZAtm"
      },
      "source": [
        "import pandas"
      ],
      "execution_count": 1,
      "outputs": []
    },
    {
      "cell_type": "markdown",
      "metadata": {
        "id": "Law2jr6edq4h"
      },
      "source": [
        "##เชื่อมต่อกับ Google drive\n",
        "หรือนำไฟล์จาก Drive มาที่ google colab"
      ]
    },
    {
      "cell_type": "code",
      "metadata": {
        "colab": {
          "base_uri": "https://localhost:8080/"
        },
        "id": "x3QzdQpgZq_0",
        "outputId": "13617130-0539-4312-b2f1-1fbea114c93a"
      },
      "source": [
        "from google.colab import drive\n",
        "drive.mount('/content/drive')\n",
        "\n",
        "##ตั้งชื่อลิ้งค์\n",
        "path = '/content/drive/My Drive/DWDM_material'"
      ],
      "execution_count": 2,
      "outputs": [
        {
          "output_type": "stream",
          "text": [
            "Mounted at /content/drive\n"
          ],
          "name": "stdout"
        }
      ]
    },
    {
      "cell_type": "markdown",
      "metadata": {
        "id": "nAfr9l2dEJdi"
      },
      "source": [
        "##การเรียกใช้ package ที่ชื่อว่า os"
      ]
    },
    {
      "cell_type": "code",
      "metadata": {
        "id": "Uy1ZhvrNZolM"
      },
      "source": [
        "import os\n",
        "\n",
        "dnp_attraction = os.path.join(path,'dnp_attraction.csv')\n",
        "visitors = os.path.join(path,'visitors.csv')"
      ],
      "execution_count": 3,
      "outputs": []
    },
    {
      "cell_type": "markdown",
      "metadata": {
        "id": "Dpsr_LphE_TW"
      },
      "source": [
        "##จากนั้นใช้ pandas โหลดข้อมูลมา"
      ]
    },
    {
      "cell_type": "code",
      "metadata": {
        "colab": {
          "base_uri": "https://localhost:8080/",
          "height": 736
        },
        "id": "z920E8TpaqJr",
        "outputId": "1e0c6590-d014-41f2-e897-e0cf85bad177"
      },
      "source": [
        "dnp_attraction_df = pandas.read_csv(dnp_attraction)\n",
        "dnp_attraction_df.head()"
      ],
      "execution_count": 4,
      "outputs": [
        {
          "output_type": "execute_result",
          "data": {
            "text/html": [
              "<div>\n",
              "<style scoped>\n",
              "    .dataframe tbody tr th:only-of-type {\n",
              "        vertical-align: middle;\n",
              "    }\n",
              "\n",
              "    .dataframe tbody tr th {\n",
              "        vertical-align: top;\n",
              "    }\n",
              "\n",
              "    .dataframe thead th {\n",
              "        text-align: right;\n",
              "    }\n",
              "</style>\n",
              "<table border=\"1\" class=\"dataframe\">\n",
              "  <thead>\n",
              "    <tr style=\"text-align: right;\">\n",
              "      <th></th>\n",
              "      <th>Type-TH</th>\n",
              "      <th>Type-EN</th>\n",
              "      <th>SubType-TH</th>\n",
              "      <th>SubType-EN</th>\n",
              "      <th>Attraction-name TH</th>\n",
              "      <th>Attraction-name EN</th>\n",
              "      <th>Organization-Unit-TH</th>\n",
              "      <th>Organization-Unit-EN</th>\n",
              "      <th>Latitude</th>\n",
              "      <th>Longtiude</th>\n",
              "      <th>Open-Houre</th>\n",
              "      <th>Image-URL</th>\n",
              "      <th>Facility</th>\n",
              "      <th>Contact</th>\n",
              "      <th>Province</th>\n",
              "      <th>District</th>\n",
              "      <th>Subdistrict</th>\n",
              "    </tr>\n",
              "  </thead>\n",
              "  <tbody>\n",
              "    <tr>\n",
              "      <th>0</th>\n",
              "      <td>สวนพฤกษศาสตร์</td>\n",
              "      <td>Botanical Garden</td>\n",
              "      <td>-</td>\n",
              "      <td>-</td>\n",
              "      <td>สวนพฤกษศาสตร์วังน้ำเย็น</td>\n",
              "      <td>Wang Nam Yen Botanical Garden</td>\n",
              "      <td>สำนักวิจัยการอนุรักษ์ป่าไม้และพันธุ์พืช</td>\n",
              "      <td>Forest and Plant Conservation Research Office</td>\n",
              "      <td>13.497</td>\n",
              "      <td>102.015</td>\n",
              "      <td>ทุกวัน (เวลาราชการ 8.30 น. -16.30 น.)</td>\n",
              "      <td>http://www.dnp.go.th/MFCD3/oganization/%E0%B8%...</td>\n",
              "      <td>-บ้านพัก ห้องประชุม</td>\n",
              "      <td>089-811-031</td>\n",
              "      <td>สระแก้ว</td>\n",
              "      <td>วังน้ำเย็น</td>\n",
              "      <td>ทุ่งมหาเจริญ</td>\n",
              "    </tr>\n",
              "    <tr>\n",
              "      <th>1</th>\n",
              "      <td>สวนพฤกษศาสตร์</td>\n",
              "      <td>Botanical Garden</td>\n",
              "      <td>-</td>\n",
              "      <td>-</td>\n",
              "      <td>สวนพฤกษศาสตร์พุแค</td>\n",
              "      <td>Phu Khae Botanical Garden</td>\n",
              "      <td>สำนักวิจัยการอนุรักษ์ป่าไม้และพันธุ์พืช</td>\n",
              "      <td>Forest and Plant Conservation Research Office</td>\n",
              "      <td>14.6712</td>\n",
              "      <td>100.8846</td>\n",
              "      <td>ทุกวัน (เวลาราชการ 8.30 น. -16.30 น.)</td>\n",
              "      <td>http://saraburi.dnp.go.th/sever/saraburisite/w...</td>\n",
              "      <td>-บ้านพัก ห้องประชุม</td>\n",
              "      <td>036-347-457</td>\n",
              "      <td>สระบุรี</td>\n",
              "      <td>เฉลิมพระเกียรติ</td>\n",
              "      <td>พุแค</td>\n",
              "    </tr>\n",
              "    <tr>\n",
              "      <th>2</th>\n",
              "      <td>สวนพฤกษศาสตร์</td>\n",
              "      <td>Botanical Garden</td>\n",
              "      <td>-</td>\n",
              "      <td>-</td>\n",
              "      <td>สวนพฤกษศาสตร์บ้านเพ</td>\n",
              "      <td>Ban Phe Botanical Garden</td>\n",
              "      <td>สำนักวิจัยการอนุรักษ์ป่าไม้และพันธุ์พืช</td>\n",
              "      <td>Forest and Plant Conservation Research Office</td>\n",
              "      <td>12.6335</td>\n",
              "      <td>101.4586</td>\n",
              "      <td>ทุกวัน (เวลาราชการ 8.30 น. -16.30 น.)</td>\n",
              "      <td>NaN</td>\n",
              "      <td>-บ้านพัก ห้องประชุม</td>\n",
              "      <td>038-653-022</td>\n",
              "      <td>ระยอง</td>\n",
              "      <td>เมืองระยอง</td>\n",
              "      <td>แกลง</td>\n",
              "    </tr>\n",
              "    <tr>\n",
              "      <th>3</th>\n",
              "      <td>สวนพฤกษศาสตร์</td>\n",
              "      <td>Botanical Garden</td>\n",
              "      <td>-</td>\n",
              "      <td>-</td>\n",
              "      <td>สวนพฤกษศาสตร์เขาหินซ้อน</td>\n",
              "      <td>Khao Hin Son Botanical Garden</td>\n",
              "      <td>สำนักวิจัยการอนุรักษ์ป่าไม้และพันธุ์พืช</td>\n",
              "      <td>Forest and Plant Conservation Research Office</td>\n",
              "      <td>13.7526</td>\n",
              "      <td>101.5064</td>\n",
              "      <td>ทุกวัน (เวลาราชการ 8.30 น. -16.30 น.)</td>\n",
              "      <td>http://www.khaohinsonbg.org/</td>\n",
              "      <td>-บ้านพัก ห้องประชุม</td>\n",
              "      <td>038-599-113, 038-554-920</td>\n",
              "      <td>ฉะเชิงเทรา</td>\n",
              "      <td>พนมสารคาม</td>\n",
              "      <td>เขาหินซ้อน</td>\n",
              "    </tr>\n",
              "    <tr>\n",
              "      <th>4</th>\n",
              "      <td>สวนพฤกษศาสตร์</td>\n",
              "      <td>Botanical Garden</td>\n",
              "      <td>-</td>\n",
              "      <td>-</td>\n",
              "      <td>สวนพฤกษศาสตร์เขาช่อง</td>\n",
              "      <td>Khao Chong Botanical Garden</td>\n",
              "      <td>สำนักวิจัยการอนุรักษ์ป่าไม้และพันธุ์พืช</td>\n",
              "      <td>Forest and Plant Conservation Research Office</td>\n",
              "      <td>7.5577</td>\n",
              "      <td>99.7761</td>\n",
              "      <td>ทุกวัน (เวลาราชการ 8.30 น. -16.30 น.)</td>\n",
              "      <td>NaN</td>\n",
              "      <td>-บ้านพัก ห้องประชุม</td>\n",
              "      <td>075-573-521</td>\n",
              "      <td>ตรัง</td>\n",
              "      <td>นาโยง</td>\n",
              "      <td>นาโยง</td>\n",
              "    </tr>\n",
              "  </tbody>\n",
              "</table>\n",
              "</div>"
            ],
            "text/plain": [
              "         Type-TH           Type-EN  ...         District   Subdistrict\n",
              "0  สวนพฤกษศาสตร์  Botanical Garden  ...       วังน้ำเย็น  ทุ่งมหาเจริญ\n",
              "1  สวนพฤกษศาสตร์  Botanical Garden  ...  เฉลิมพระเกียรติ          พุแค\n",
              "2  สวนพฤกษศาสตร์  Botanical Garden  ...       เมืองระยอง          แกลง\n",
              "3  สวนพฤกษศาสตร์  Botanical Garden  ...        พนมสารคาม    เขาหินซ้อน\n",
              "4  สวนพฤกษศาสตร์  Botanical Garden  ...            นาโยง         นาโยง\n",
              "\n",
              "[5 rows x 17 columns]"
            ]
          },
          "metadata": {
            "tags": []
          },
          "execution_count": 4
        }
      ]
    },
    {
      "cell_type": "code",
      "metadata": {
        "id": "_xoO_DaTaqua",
        "colab": {
          "base_uri": "https://localhost:8080/",
          "height": 232
        },
        "outputId": "16036397-6e84-4e57-f1b2-83b7523cca20"
      },
      "source": [
        "visitors_df = pandas.read_csv(visitors)\n",
        "visitors_df.head()"
      ],
      "execution_count": 5,
      "outputs": [
        {
          "output_type": "execute_result",
          "data": {
            "text/html": [
              "<div>\n",
              "<style scoped>\n",
              "    .dataframe tbody tr th:only-of-type {\n",
              "        vertical-align: middle;\n",
              "    }\n",
              "\n",
              "    .dataframe tbody tr th {\n",
              "        vertical-align: top;\n",
              "    }\n",
              "\n",
              "    .dataframe thead th {\n",
              "        text-align: right;\n",
              "    }\n",
              "</style>\n",
              "<table border=\"1\" class=\"dataframe\">\n",
              "  <thead>\n",
              "    <tr style=\"text-align: right;\">\n",
              "      <th></th>\n",
              "      <th>จังหวัด</th>\n",
              "      <th>รหัสจังหวัด</th>\n",
              "      <th>2549</th>\n",
              "      <th>2550</th>\n",
              "      <th>2551</th>\n",
              "      <th>2552</th>\n",
              "      <th>2553</th>\n",
              "      <th>2554</th>\n",
              "      <th>2555</th>\n",
              "      <th>2556</th>\n",
              "      <th>2557</th>\n",
              "      <th>2558</th>\n",
              "      <th>2559</th>\n",
              "      <th>2560</th>\n",
              "      <th>2561</th>\n",
              "    </tr>\n",
              "  </thead>\n",
              "  <tbody>\n",
              "    <tr>\n",
              "      <th>0</th>\n",
              "      <td>กรุงเทพมหานคร</td>\n",
              "      <td>th-bm</td>\n",
              "      <td>36172138.0</td>\n",
              "      <td>35953546.0</td>\n",
              "      <td>35110693.0</td>\n",
              "      <td>30037911.0</td>\n",
              "      <td>38222903.0</td>\n",
              "      <td>43763002</td>\n",
              "      <td>47185031</td>\n",
              "      <td>50568902</td>\n",
              "      <td>50972772</td>\n",
              "      <td>56515597</td>\n",
              "      <td>59196331</td>\n",
              "      <td>63575737</td>\n",
              "      <td>65534281</td>\n",
              "    </tr>\n",
              "    <tr>\n",
              "      <th>1</th>\n",
              "      <td>สมุทรปราการ</td>\n",
              "      <td>th-sp</td>\n",
              "      <td>958352.0</td>\n",
              "      <td>1262082.0</td>\n",
              "      <td>1875232.0</td>\n",
              "      <td>1292295.0</td>\n",
              "      <td>1291883.0</td>\n",
              "      <td>1489104</td>\n",
              "      <td>2107433</td>\n",
              "      <td>2204073</td>\n",
              "      <td>2350340</td>\n",
              "      <td>2780429</td>\n",
              "      <td>2900180</td>\n",
              "      <td>3218934</td>\n",
              "      <td>3373639</td>\n",
              "    </tr>\n",
              "    <tr>\n",
              "      <th>2</th>\n",
              "      <td>นนทบุรี</td>\n",
              "      <td>th-no</td>\n",
              "      <td>830593.0</td>\n",
              "      <td>1079877.0</td>\n",
              "      <td>973721.0</td>\n",
              "      <td>1373459.0</td>\n",
              "      <td>1792164.0</td>\n",
              "      <td>2004376</td>\n",
              "      <td>1663990</td>\n",
              "      <td>1700408</td>\n",
              "      <td>1730885</td>\n",
              "      <td>2045867</td>\n",
              "      <td>2090095</td>\n",
              "      <td>2514677</td>\n",
              "      <td>2664025</td>\n",
              "    </tr>\n",
              "    <tr>\n",
              "      <th>3</th>\n",
              "      <td>ปทุมธานี</td>\n",
              "      <td>th-pt</td>\n",
              "      <td>868449.0</td>\n",
              "      <td>1050674.0</td>\n",
              "      <td>798231.0</td>\n",
              "      <td>965318.0</td>\n",
              "      <td>1068529.0</td>\n",
              "      <td>1086433</td>\n",
              "      <td>1474292</td>\n",
              "      <td>1553170</td>\n",
              "      <td>1613073</td>\n",
              "      <td>1815389</td>\n",
              "      <td>1896549</td>\n",
              "      <td>2014281</td>\n",
              "      <td>2098344</td>\n",
              "    </tr>\n",
              "    <tr>\n",
              "      <th>4</th>\n",
              "      <td>พระนครศรีอยุธยา</td>\n",
              "      <td>th-pa</td>\n",
              "      <td>3373929.0</td>\n",
              "      <td>3784617.0</td>\n",
              "      <td>3659402.0</td>\n",
              "      <td>3583231.0</td>\n",
              "      <td>6534638.0</td>\n",
              "      <td>4890949</td>\n",
              "      <td>6066545</td>\n",
              "      <td>6226424</td>\n",
              "      <td>6698561</td>\n",
              "      <td>6994538</td>\n",
              "      <td>7216514</td>\n",
              "      <td>7631557</td>\n",
              "      <td>8349613</td>\n",
              "    </tr>\n",
              "  </tbody>\n",
              "</table>\n",
              "</div>"
            ],
            "text/plain": [
              "           จังหวัด รหัสจังหวัด        2549  ...      2559      2560      2561\n",
              "0    กรุงเทพมหานคร       th-bm  36172138.0  ...  59196331  63575737  65534281\n",
              "1      สมุทรปราการ       th-sp    958352.0  ...   2900180   3218934   3373639\n",
              "2          นนทบุรี       th-no    830593.0  ...   2090095   2514677   2664025\n",
              "3         ปทุมธานี       th-pt    868449.0  ...   1896549   2014281   2098344\n",
              "4  พระนครศรีอยุธยา       th-pa   3373929.0  ...   7216514   7631557   8349613\n",
              "\n",
              "[5 rows x 15 columns]"
            ]
          },
          "metadata": {
            "tags": []
          },
          "execution_count": 5
        }
      ]
    },
    {
      "cell_type": "markdown",
      "metadata": {
        "id": "Q6-DSdgIW_Li"
      },
      "source": [
        "##เพิ่ม Column 'SUM' ที่รวมจำนวนนักท่องเที่ยวในแต่ละจังหวัดตั้งแต่ปี2549-2561"
      ]
    },
    {
      "cell_type": "code",
      "metadata": {
        "colab": {
          "base_uri": "https://localhost:8080/",
          "height": 232
        },
        "id": "SsNwDeFJS9ks",
        "outputId": "e7eff6a7-0540-485d-bd66-7929ce70bc9f"
      },
      "source": [
        "# sum for rows\n",
        "df = visitors_df = pandas.read_csv(visitors)\n",
        "df['SUM'] = df['2549']+df['2550']+df['2551']+df['2552']+df['2553']+df['2554']+df['2555']+df['2556']+df['2557']+df['2558']+df['2559']+df['2560']+df['2561']\n",
        "df.head()"
      ],
      "execution_count": 6,
      "outputs": [
        {
          "output_type": "execute_result",
          "data": {
            "text/html": [
              "<div>\n",
              "<style scoped>\n",
              "    .dataframe tbody tr th:only-of-type {\n",
              "        vertical-align: middle;\n",
              "    }\n",
              "\n",
              "    .dataframe tbody tr th {\n",
              "        vertical-align: top;\n",
              "    }\n",
              "\n",
              "    .dataframe thead th {\n",
              "        text-align: right;\n",
              "    }\n",
              "</style>\n",
              "<table border=\"1\" class=\"dataframe\">\n",
              "  <thead>\n",
              "    <tr style=\"text-align: right;\">\n",
              "      <th></th>\n",
              "      <th>จังหวัด</th>\n",
              "      <th>รหัสจังหวัด</th>\n",
              "      <th>2549</th>\n",
              "      <th>2550</th>\n",
              "      <th>2551</th>\n",
              "      <th>2552</th>\n",
              "      <th>2553</th>\n",
              "      <th>2554</th>\n",
              "      <th>2555</th>\n",
              "      <th>2556</th>\n",
              "      <th>2557</th>\n",
              "      <th>2558</th>\n",
              "      <th>2559</th>\n",
              "      <th>2560</th>\n",
              "      <th>2561</th>\n",
              "      <th>SUM</th>\n",
              "    </tr>\n",
              "  </thead>\n",
              "  <tbody>\n",
              "    <tr>\n",
              "      <th>0</th>\n",
              "      <td>กรุงเทพมหานคร</td>\n",
              "      <td>th-bm</td>\n",
              "      <td>36172138.0</td>\n",
              "      <td>35953546.0</td>\n",
              "      <td>35110693.0</td>\n",
              "      <td>30037911.0</td>\n",
              "      <td>38222903.0</td>\n",
              "      <td>43763002</td>\n",
              "      <td>47185031</td>\n",
              "      <td>50568902</td>\n",
              "      <td>50972772</td>\n",
              "      <td>56515597</td>\n",
              "      <td>59196331</td>\n",
              "      <td>63575737</td>\n",
              "      <td>65534281</td>\n",
              "      <td>612808844.0</td>\n",
              "    </tr>\n",
              "    <tr>\n",
              "      <th>1</th>\n",
              "      <td>สมุทรปราการ</td>\n",
              "      <td>th-sp</td>\n",
              "      <td>958352.0</td>\n",
              "      <td>1262082.0</td>\n",
              "      <td>1875232.0</td>\n",
              "      <td>1292295.0</td>\n",
              "      <td>1291883.0</td>\n",
              "      <td>1489104</td>\n",
              "      <td>2107433</td>\n",
              "      <td>2204073</td>\n",
              "      <td>2350340</td>\n",
              "      <td>2780429</td>\n",
              "      <td>2900180</td>\n",
              "      <td>3218934</td>\n",
              "      <td>3373639</td>\n",
              "      <td>27103976.0</td>\n",
              "    </tr>\n",
              "    <tr>\n",
              "      <th>2</th>\n",
              "      <td>นนทบุรี</td>\n",
              "      <td>th-no</td>\n",
              "      <td>830593.0</td>\n",
              "      <td>1079877.0</td>\n",
              "      <td>973721.0</td>\n",
              "      <td>1373459.0</td>\n",
              "      <td>1792164.0</td>\n",
              "      <td>2004376</td>\n",
              "      <td>1663990</td>\n",
              "      <td>1700408</td>\n",
              "      <td>1730885</td>\n",
              "      <td>2045867</td>\n",
              "      <td>2090095</td>\n",
              "      <td>2514677</td>\n",
              "      <td>2664025</td>\n",
              "      <td>22464137.0</td>\n",
              "    </tr>\n",
              "    <tr>\n",
              "      <th>3</th>\n",
              "      <td>ปทุมธานี</td>\n",
              "      <td>th-pt</td>\n",
              "      <td>868449.0</td>\n",
              "      <td>1050674.0</td>\n",
              "      <td>798231.0</td>\n",
              "      <td>965318.0</td>\n",
              "      <td>1068529.0</td>\n",
              "      <td>1086433</td>\n",
              "      <td>1474292</td>\n",
              "      <td>1553170</td>\n",
              "      <td>1613073</td>\n",
              "      <td>1815389</td>\n",
              "      <td>1896549</td>\n",
              "      <td>2014281</td>\n",
              "      <td>2098344</td>\n",
              "      <td>18302732.0</td>\n",
              "    </tr>\n",
              "    <tr>\n",
              "      <th>4</th>\n",
              "      <td>พระนครศรีอยุธยา</td>\n",
              "      <td>th-pa</td>\n",
              "      <td>3373929.0</td>\n",
              "      <td>3784617.0</td>\n",
              "      <td>3659402.0</td>\n",
              "      <td>3583231.0</td>\n",
              "      <td>6534638.0</td>\n",
              "      <td>4890949</td>\n",
              "      <td>6066545</td>\n",
              "      <td>6226424</td>\n",
              "      <td>6698561</td>\n",
              "      <td>6994538</td>\n",
              "      <td>7216514</td>\n",
              "      <td>7631557</td>\n",
              "      <td>8349613</td>\n",
              "      <td>75010518.0</td>\n",
              "    </tr>\n",
              "  </tbody>\n",
              "</table>\n",
              "</div>"
            ],
            "text/plain": [
              "           จังหวัด รหัสจังหวัด        2549  ...      2560      2561          SUM\n",
              "0    กรุงเทพมหานคร       th-bm  36172138.0  ...  63575737  65534281  612808844.0\n",
              "1      สมุทรปราการ       th-sp    958352.0  ...   3218934   3373639   27103976.0\n",
              "2          นนทบุรี       th-no    830593.0  ...   2514677   2664025   22464137.0\n",
              "3         ปทุมธานี       th-pt    868449.0  ...   2014281   2098344   18302732.0\n",
              "4  พระนครศรีอยุธยา       th-pa   3373929.0  ...   7631557   8349613   75010518.0\n",
              "\n",
              "[5 rows x 16 columns]"
            ]
          },
          "metadata": {
            "tags": []
          },
          "execution_count": 6
        }
      ]
    },
    {
      "cell_type": "markdown",
      "metadata": {
        "id": "oUGv7PTEYygf"
      },
      "source": [
        "## หาค่าเฉลี่ยจำนวนนักท่องเที่ยวในปี 2561"
      ]
    },
    {
      "cell_type": "code",
      "metadata": {
        "id": "6ZcZDCOgVA6X",
        "outputId": "0e3bf041-e213-4a6f-9e3c-288d621f2b78",
        "colab": {
          "base_uri": "https://localhost:8080/",
          "height": 422
        }
      },
      "source": [
        "v_table = visitors_df[['จังหวัด','2549','2550','2551','2552','2553','2554','2555','2556','2557','2558','2559','2560','2561']]\n",
        "v_table"
      ],
      "execution_count": 42,
      "outputs": [
        {
          "output_type": "execute_result",
          "data": {
            "text/html": [
              "<div>\n",
              "<style scoped>\n",
              "    .dataframe tbody tr th:only-of-type {\n",
              "        vertical-align: middle;\n",
              "    }\n",
              "\n",
              "    .dataframe tbody tr th {\n",
              "        vertical-align: top;\n",
              "    }\n",
              "\n",
              "    .dataframe thead th {\n",
              "        text-align: right;\n",
              "    }\n",
              "</style>\n",
              "<table border=\"1\" class=\"dataframe\">\n",
              "  <thead>\n",
              "    <tr style=\"text-align: right;\">\n",
              "      <th></th>\n",
              "      <th>จังหวัด</th>\n",
              "      <th>2549</th>\n",
              "      <th>2550</th>\n",
              "      <th>2551</th>\n",
              "      <th>2552</th>\n",
              "      <th>2553</th>\n",
              "      <th>2554</th>\n",
              "      <th>2555</th>\n",
              "      <th>2556</th>\n",
              "      <th>2557</th>\n",
              "      <th>2558</th>\n",
              "      <th>2559</th>\n",
              "      <th>2560</th>\n",
              "      <th>2561</th>\n",
              "    </tr>\n",
              "  </thead>\n",
              "  <tbody>\n",
              "    <tr>\n",
              "      <th>0</th>\n",
              "      <td>กรุงเทพมหานคร</td>\n",
              "      <td>36172138.0</td>\n",
              "      <td>35953546.0</td>\n",
              "      <td>35110693.0</td>\n",
              "      <td>30037911.0</td>\n",
              "      <td>38222903.0</td>\n",
              "      <td>43763002</td>\n",
              "      <td>47185031</td>\n",
              "      <td>50568902</td>\n",
              "      <td>50972772</td>\n",
              "      <td>56515597</td>\n",
              "      <td>59196331</td>\n",
              "      <td>63575737</td>\n",
              "      <td>65534281</td>\n",
              "    </tr>\n",
              "    <tr>\n",
              "      <th>1</th>\n",
              "      <td>สมุทรปราการ</td>\n",
              "      <td>958352.0</td>\n",
              "      <td>1262082.0</td>\n",
              "      <td>1875232.0</td>\n",
              "      <td>1292295.0</td>\n",
              "      <td>1291883.0</td>\n",
              "      <td>1489104</td>\n",
              "      <td>2107433</td>\n",
              "      <td>2204073</td>\n",
              "      <td>2350340</td>\n",
              "      <td>2780429</td>\n",
              "      <td>2900180</td>\n",
              "      <td>3218934</td>\n",
              "      <td>3373639</td>\n",
              "    </tr>\n",
              "    <tr>\n",
              "      <th>2</th>\n",
              "      <td>นนทบุรี</td>\n",
              "      <td>830593.0</td>\n",
              "      <td>1079877.0</td>\n",
              "      <td>973721.0</td>\n",
              "      <td>1373459.0</td>\n",
              "      <td>1792164.0</td>\n",
              "      <td>2004376</td>\n",
              "      <td>1663990</td>\n",
              "      <td>1700408</td>\n",
              "      <td>1730885</td>\n",
              "      <td>2045867</td>\n",
              "      <td>2090095</td>\n",
              "      <td>2514677</td>\n",
              "      <td>2664025</td>\n",
              "    </tr>\n",
              "    <tr>\n",
              "      <th>3</th>\n",
              "      <td>ปทุมธานี</td>\n",
              "      <td>868449.0</td>\n",
              "      <td>1050674.0</td>\n",
              "      <td>798231.0</td>\n",
              "      <td>965318.0</td>\n",
              "      <td>1068529.0</td>\n",
              "      <td>1086433</td>\n",
              "      <td>1474292</td>\n",
              "      <td>1553170</td>\n",
              "      <td>1613073</td>\n",
              "      <td>1815389</td>\n",
              "      <td>1896549</td>\n",
              "      <td>2014281</td>\n",
              "      <td>2098344</td>\n",
              "    </tr>\n",
              "    <tr>\n",
              "      <th>4</th>\n",
              "      <td>พระนครศรีอยุธยา</td>\n",
              "      <td>3373929.0</td>\n",
              "      <td>3784617.0</td>\n",
              "      <td>3659402.0</td>\n",
              "      <td>3583231.0</td>\n",
              "      <td>6534638.0</td>\n",
              "      <td>4890949</td>\n",
              "      <td>6066545</td>\n",
              "      <td>6226424</td>\n",
              "      <td>6698561</td>\n",
              "      <td>6994538</td>\n",
              "      <td>7216514</td>\n",
              "      <td>7631557</td>\n",
              "      <td>8349613</td>\n",
              "    </tr>\n",
              "    <tr>\n",
              "      <th>...</th>\n",
              "      <td>...</td>\n",
              "      <td>...</td>\n",
              "      <td>...</td>\n",
              "      <td>...</td>\n",
              "      <td>...</td>\n",
              "      <td>...</td>\n",
              "      <td>...</td>\n",
              "      <td>...</td>\n",
              "      <td>...</td>\n",
              "      <td>...</td>\n",
              "      <td>...</td>\n",
              "      <td>...</td>\n",
              "      <td>...</td>\n",
              "      <td>...</td>\n",
              "    </tr>\n",
              "    <tr>\n",
              "      <th>72</th>\n",
              "      <td>ตรัง</td>\n",
              "      <td>726373.0</td>\n",
              "      <td>858638.0</td>\n",
              "      <td>993615.0</td>\n",
              "      <td>843606.0</td>\n",
              "      <td>1110021.0</td>\n",
              "      <td>1007717</td>\n",
              "      <td>1137961</td>\n",
              "      <td>1281663</td>\n",
              "      <td>1308968</td>\n",
              "      <td>1414663</td>\n",
              "      <td>1465811</td>\n",
              "      <td>1514092</td>\n",
              "      <td>1578906</td>\n",
              "    </tr>\n",
              "    <tr>\n",
              "      <th>73</th>\n",
              "      <td>พัทลุง</td>\n",
              "      <td>448000.0</td>\n",
              "      <td>501320.0</td>\n",
              "      <td>853674.0</td>\n",
              "      <td>483058.0</td>\n",
              "      <td>939379.0</td>\n",
              "      <td>1119171</td>\n",
              "      <td>1089992</td>\n",
              "      <td>1178007</td>\n",
              "      <td>1236012</td>\n",
              "      <td>1326468</td>\n",
              "      <td>1487188</td>\n",
              "      <td>1569333</td>\n",
              "      <td>1641841</td>\n",
              "    </tr>\n",
              "    <tr>\n",
              "      <th>74</th>\n",
              "      <td>ปัตตานี</td>\n",
              "      <td>160320.0</td>\n",
              "      <td>131998.0</td>\n",
              "      <td>152748.0</td>\n",
              "      <td>201401.0</td>\n",
              "      <td>184153.0</td>\n",
              "      <td>179687</td>\n",
              "      <td>214285</td>\n",
              "      <td>235606</td>\n",
              "      <td>237925</td>\n",
              "      <td>251081</td>\n",
              "      <td>257143</td>\n",
              "      <td>272739</td>\n",
              "      <td>281988</td>\n",
              "    </tr>\n",
              "    <tr>\n",
              "      <th>75</th>\n",
              "      <td>ยะลา</td>\n",
              "      <td>282463.0</td>\n",
              "      <td>269368.0</td>\n",
              "      <td>311712.0</td>\n",
              "      <td>300570.0</td>\n",
              "      <td>373269.0</td>\n",
              "      <td>335968</td>\n",
              "      <td>429044</td>\n",
              "      <td>563771</td>\n",
              "      <td>589653</td>\n",
              "      <td>622376</td>\n",
              "      <td>624879</td>\n",
              "      <td>657317</td>\n",
              "      <td>680018</td>\n",
              "    </tr>\n",
              "    <tr>\n",
              "      <th>76</th>\n",
              "      <td>นราธิวาส</td>\n",
              "      <td>336473.0</td>\n",
              "      <td>284073.0</td>\n",
              "      <td>328729.0</td>\n",
              "      <td>430301.0</td>\n",
              "      <td>547235.0</td>\n",
              "      <td>479524</td>\n",
              "      <td>489944</td>\n",
              "      <td>570973</td>\n",
              "      <td>589690</td>\n",
              "      <td>635910</td>\n",
              "      <td>646020</td>\n",
              "      <td>665710</td>\n",
              "      <td>692057</td>\n",
              "    </tr>\n",
              "  </tbody>\n",
              "</table>\n",
              "<p>77 rows × 14 columns</p>\n",
              "</div>"
            ],
            "text/plain": [
              "            จังหวัด        2549        2550  ...      2559      2560      2561\n",
              "0     กรุงเทพมหานคร  36172138.0  35953546.0  ...  59196331  63575737  65534281\n",
              "1       สมุทรปราการ    958352.0   1262082.0  ...   2900180   3218934   3373639\n",
              "2           นนทบุรี    830593.0   1079877.0  ...   2090095   2514677   2664025\n",
              "3          ปทุมธานี    868449.0   1050674.0  ...   1896549   2014281   2098344\n",
              "4   พระนครศรีอยุธยา   3373929.0   3784617.0  ...   7216514   7631557   8349613\n",
              "..              ...         ...         ...  ...       ...       ...       ...\n",
              "72             ตรัง    726373.0    858638.0  ...   1465811   1514092   1578906\n",
              "73           พัทลุง    448000.0    501320.0  ...   1487188   1569333   1641841\n",
              "74          ปัตตานี    160320.0    131998.0  ...    257143    272739    281988\n",
              "75             ยะลา    282463.0    269368.0  ...    624879    657317    680018\n",
              "76         นราธิวาส    336473.0    284073.0  ...    646020    665710    692057\n",
              "\n",
              "[77 rows x 14 columns]"
            ]
          },
          "metadata": {
            "tags": []
          },
          "execution_count": 42
        }
      ]
    },
    {
      "cell_type": "code",
      "metadata": {
        "id": "gEzkcNdPXUmX",
        "outputId": "41bff2c6-5975-4f0d-a347-3a6dc7b4efce",
        "colab": {
          "base_uri": "https://localhost:8080/"
        }
      },
      "source": [
        "v_table_m = v_table['2561']\n",
        "v_table_m"
      ],
      "execution_count": 44,
      "outputs": [
        {
          "output_type": "execute_result",
          "data": {
            "text/plain": [
              "0     65534281\n",
              "1      3373639\n",
              "2      2664025\n",
              "3      2098344\n",
              "4      8349613\n",
              "        ...   \n",
              "72     1578906\n",
              "73     1641841\n",
              "74      281988\n",
              "75      680018\n",
              "76      692057\n",
              "Name: 2561, Length: 77, dtype: int64"
            ]
          },
          "metadata": {
            "tags": []
          },
          "execution_count": 44
        }
      ]
    },
    {
      "cell_type": "markdown",
      "metadata": {
        "id": "We4pLwyrZjC0"
      },
      "source": [
        "## จำนวนนักท่องเที่ยวเฉลี่ยในปี 2561 เท่ากับ 3935314.4415584416 คน"
      ]
    },
    {
      "cell_type": "code",
      "metadata": {
        "id": "pUs309M5XUkR",
        "outputId": "5afd191f-1e82-46a0-cd64-245af8ac09e7",
        "colab": {
          "base_uri": "https://localhost:8080/"
        }
      },
      "source": [
        "v_table_m.mean()"
      ],
      "execution_count": 45,
      "outputs": [
        {
          "output_type": "execute_result",
          "data": {
            "text/plain": [
              "3935314.4415584416"
            ]
          },
          "metadata": {
            "tags": []
          },
          "execution_count": 45
        }
      ]
    },
    {
      "cell_type": "markdown",
      "metadata": {
        "id": "FeRForhid_Tl"
      },
      "source": [
        "##เช็คดูจำนวนแถวและคอลัมน์\n"
      ]
    },
    {
      "cell_type": "code",
      "metadata": {
        "id": "RoNNCZrkdABL",
        "colab": {
          "base_uri": "https://localhost:8080/"
        },
        "outputId": "f5072912-49a8-4615-c34a-b9d522f2cd12"
      },
      "source": [
        "dnp_attraction_df.shape"
      ],
      "execution_count": 7,
      "outputs": [
        {
          "output_type": "execute_result",
          "data": {
            "text/plain": [
              "(1431, 17)"
            ]
          },
          "metadata": {
            "tags": []
          },
          "execution_count": 7
        }
      ]
    },
    {
      "cell_type": "code",
      "metadata": {
        "id": "db-iaSISdAiZ",
        "colab": {
          "base_uri": "https://localhost:8080/"
        },
        "outputId": "b146bdb6-95f1-442a-99fd-7b96907998bd"
      },
      "source": [
        "visitors_df.shape"
      ],
      "execution_count": 8,
      "outputs": [
        {
          "output_type": "execute_result",
          "data": {
            "text/plain": [
              "(77, 16)"
            ]
          },
          "metadata": {
            "tags": []
          },
          "execution_count": 8
        }
      ]
    },
    {
      "cell_type": "markdown",
      "metadata": {
        "id": "AoEkjXcmem2p"
      },
      "source": [
        "##Missing Values"
      ]
    },
    {
      "cell_type": "markdown",
      "metadata": {
        "id": "gaBQO3hDeuho"
      },
      "source": [
        "วิธีที่ 1 ลบ Missing ออกไปเลย"
      ]
    },
    {
      "cell_type": "code",
      "metadata": {
        "id": "rqGaNH5gdKVI",
        "colab": {
          "base_uri": "https://localhost:8080/",
          "height": 438
        },
        "outputId": "5f65b52c-dcbd-4592-f137-20f1427a3656"
      },
      "source": [
        "dnp_attraction_df.isnull()"
      ],
      "execution_count": 9,
      "outputs": [
        {
          "output_type": "execute_result",
          "data": {
            "text/html": [
              "<div>\n",
              "<style scoped>\n",
              "    .dataframe tbody tr th:only-of-type {\n",
              "        vertical-align: middle;\n",
              "    }\n",
              "\n",
              "    .dataframe tbody tr th {\n",
              "        vertical-align: top;\n",
              "    }\n",
              "\n",
              "    .dataframe thead th {\n",
              "        text-align: right;\n",
              "    }\n",
              "</style>\n",
              "<table border=\"1\" class=\"dataframe\">\n",
              "  <thead>\n",
              "    <tr style=\"text-align: right;\">\n",
              "      <th></th>\n",
              "      <th>Type-TH</th>\n",
              "      <th>Type-EN</th>\n",
              "      <th>SubType-TH</th>\n",
              "      <th>SubType-EN</th>\n",
              "      <th>Attraction-name TH</th>\n",
              "      <th>Attraction-name EN</th>\n",
              "      <th>Organization-Unit-TH</th>\n",
              "      <th>Organization-Unit-EN</th>\n",
              "      <th>Latitude</th>\n",
              "      <th>Longtiude</th>\n",
              "      <th>Open-Houre</th>\n",
              "      <th>Image-URL</th>\n",
              "      <th>Facility</th>\n",
              "      <th>Contact</th>\n",
              "      <th>Province</th>\n",
              "      <th>District</th>\n",
              "      <th>Subdistrict</th>\n",
              "    </tr>\n",
              "  </thead>\n",
              "  <tbody>\n",
              "    <tr>\n",
              "      <th>0</th>\n",
              "      <td>False</td>\n",
              "      <td>False</td>\n",
              "      <td>False</td>\n",
              "      <td>False</td>\n",
              "      <td>False</td>\n",
              "      <td>False</td>\n",
              "      <td>False</td>\n",
              "      <td>False</td>\n",
              "      <td>False</td>\n",
              "      <td>False</td>\n",
              "      <td>False</td>\n",
              "      <td>False</td>\n",
              "      <td>False</td>\n",
              "      <td>False</td>\n",
              "      <td>False</td>\n",
              "      <td>False</td>\n",
              "      <td>False</td>\n",
              "    </tr>\n",
              "    <tr>\n",
              "      <th>1</th>\n",
              "      <td>False</td>\n",
              "      <td>False</td>\n",
              "      <td>False</td>\n",
              "      <td>False</td>\n",
              "      <td>False</td>\n",
              "      <td>False</td>\n",
              "      <td>False</td>\n",
              "      <td>False</td>\n",
              "      <td>False</td>\n",
              "      <td>False</td>\n",
              "      <td>False</td>\n",
              "      <td>False</td>\n",
              "      <td>False</td>\n",
              "      <td>False</td>\n",
              "      <td>False</td>\n",
              "      <td>False</td>\n",
              "      <td>False</td>\n",
              "    </tr>\n",
              "    <tr>\n",
              "      <th>2</th>\n",
              "      <td>False</td>\n",
              "      <td>False</td>\n",
              "      <td>False</td>\n",
              "      <td>False</td>\n",
              "      <td>False</td>\n",
              "      <td>False</td>\n",
              "      <td>False</td>\n",
              "      <td>False</td>\n",
              "      <td>False</td>\n",
              "      <td>False</td>\n",
              "      <td>False</td>\n",
              "      <td>True</td>\n",
              "      <td>False</td>\n",
              "      <td>False</td>\n",
              "      <td>False</td>\n",
              "      <td>False</td>\n",
              "      <td>False</td>\n",
              "    </tr>\n",
              "    <tr>\n",
              "      <th>3</th>\n",
              "      <td>False</td>\n",
              "      <td>False</td>\n",
              "      <td>False</td>\n",
              "      <td>False</td>\n",
              "      <td>False</td>\n",
              "      <td>False</td>\n",
              "      <td>False</td>\n",
              "      <td>False</td>\n",
              "      <td>False</td>\n",
              "      <td>False</td>\n",
              "      <td>False</td>\n",
              "      <td>False</td>\n",
              "      <td>False</td>\n",
              "      <td>False</td>\n",
              "      <td>False</td>\n",
              "      <td>False</td>\n",
              "      <td>False</td>\n",
              "    </tr>\n",
              "    <tr>\n",
              "      <th>4</th>\n",
              "      <td>False</td>\n",
              "      <td>False</td>\n",
              "      <td>False</td>\n",
              "      <td>False</td>\n",
              "      <td>False</td>\n",
              "      <td>False</td>\n",
              "      <td>False</td>\n",
              "      <td>False</td>\n",
              "      <td>False</td>\n",
              "      <td>False</td>\n",
              "      <td>False</td>\n",
              "      <td>True</td>\n",
              "      <td>False</td>\n",
              "      <td>False</td>\n",
              "      <td>False</td>\n",
              "      <td>False</td>\n",
              "      <td>False</td>\n",
              "    </tr>\n",
              "    <tr>\n",
              "      <th>...</th>\n",
              "      <td>...</td>\n",
              "      <td>...</td>\n",
              "      <td>...</td>\n",
              "      <td>...</td>\n",
              "      <td>...</td>\n",
              "      <td>...</td>\n",
              "      <td>...</td>\n",
              "      <td>...</td>\n",
              "      <td>...</td>\n",
              "      <td>...</td>\n",
              "      <td>...</td>\n",
              "      <td>...</td>\n",
              "      <td>...</td>\n",
              "      <td>...</td>\n",
              "      <td>...</td>\n",
              "      <td>...</td>\n",
              "      <td>...</td>\n",
              "    </tr>\n",
              "    <tr>\n",
              "      <th>1426</th>\n",
              "      <td>False</td>\n",
              "      <td>False</td>\n",
              "      <td>False</td>\n",
              "      <td>False</td>\n",
              "      <td>False</td>\n",
              "      <td>False</td>\n",
              "      <td>False</td>\n",
              "      <td>False</td>\n",
              "      <td>True</td>\n",
              "      <td>True</td>\n",
              "      <td>True</td>\n",
              "      <td>False</td>\n",
              "      <td>True</td>\n",
              "      <td>False</td>\n",
              "      <td>False</td>\n",
              "      <td>False</td>\n",
              "      <td>False</td>\n",
              "    </tr>\n",
              "    <tr>\n",
              "      <th>1427</th>\n",
              "      <td>False</td>\n",
              "      <td>False</td>\n",
              "      <td>False</td>\n",
              "      <td>False</td>\n",
              "      <td>False</td>\n",
              "      <td>False</td>\n",
              "      <td>False</td>\n",
              "      <td>False</td>\n",
              "      <td>True</td>\n",
              "      <td>True</td>\n",
              "      <td>True</td>\n",
              "      <td>False</td>\n",
              "      <td>True</td>\n",
              "      <td>False</td>\n",
              "      <td>False</td>\n",
              "      <td>False</td>\n",
              "      <td>False</td>\n",
              "    </tr>\n",
              "    <tr>\n",
              "      <th>1428</th>\n",
              "      <td>False</td>\n",
              "      <td>False</td>\n",
              "      <td>False</td>\n",
              "      <td>False</td>\n",
              "      <td>False</td>\n",
              "      <td>False</td>\n",
              "      <td>False</td>\n",
              "      <td>False</td>\n",
              "      <td>True</td>\n",
              "      <td>True</td>\n",
              "      <td>True</td>\n",
              "      <td>False</td>\n",
              "      <td>True</td>\n",
              "      <td>False</td>\n",
              "      <td>False</td>\n",
              "      <td>False</td>\n",
              "      <td>False</td>\n",
              "    </tr>\n",
              "    <tr>\n",
              "      <th>1429</th>\n",
              "      <td>False</td>\n",
              "      <td>False</td>\n",
              "      <td>False</td>\n",
              "      <td>False</td>\n",
              "      <td>False</td>\n",
              "      <td>False</td>\n",
              "      <td>False</td>\n",
              "      <td>False</td>\n",
              "      <td>True</td>\n",
              "      <td>True</td>\n",
              "      <td>True</td>\n",
              "      <td>False</td>\n",
              "      <td>True</td>\n",
              "      <td>False</td>\n",
              "      <td>False</td>\n",
              "      <td>False</td>\n",
              "      <td>False</td>\n",
              "    </tr>\n",
              "    <tr>\n",
              "      <th>1430</th>\n",
              "      <td>False</td>\n",
              "      <td>False</td>\n",
              "      <td>False</td>\n",
              "      <td>False</td>\n",
              "      <td>False</td>\n",
              "      <td>False</td>\n",
              "      <td>False</td>\n",
              "      <td>False</td>\n",
              "      <td>True</td>\n",
              "      <td>True</td>\n",
              "      <td>False</td>\n",
              "      <td>False</td>\n",
              "      <td>True</td>\n",
              "      <td>False</td>\n",
              "      <td>False</td>\n",
              "      <td>False</td>\n",
              "      <td>False</td>\n",
              "    </tr>\n",
              "  </tbody>\n",
              "</table>\n",
              "<p>1431 rows × 17 columns</p>\n",
              "</div>"
            ],
            "text/plain": [
              "      Type-TH  Type-EN  SubType-TH  ...  Province  District  Subdistrict\n",
              "0       False    False       False  ...     False     False        False\n",
              "1       False    False       False  ...     False     False        False\n",
              "2       False    False       False  ...     False     False        False\n",
              "3       False    False       False  ...     False     False        False\n",
              "4       False    False       False  ...     False     False        False\n",
              "...       ...      ...         ...  ...       ...       ...          ...\n",
              "1426    False    False       False  ...     False     False        False\n",
              "1427    False    False       False  ...     False     False        False\n",
              "1428    False    False       False  ...     False     False        False\n",
              "1429    False    False       False  ...     False     False        False\n",
              "1430    False    False       False  ...     False     False        False\n",
              "\n",
              "[1431 rows x 17 columns]"
            ]
          },
          "metadata": {
            "tags": []
          },
          "execution_count": 9
        }
      ]
    },
    {
      "cell_type": "code",
      "metadata": {
        "id": "iQ573KOLdT94",
        "colab": {
          "base_uri": "https://localhost:8080/"
        },
        "outputId": "3266e96b-0e37-407f-fdbe-ed7b52c1ea4c"
      },
      "source": [
        "dnp_attraction_df.isnull().any()"
      ],
      "execution_count": 10,
      "outputs": [
        {
          "output_type": "execute_result",
          "data": {
            "text/plain": [
              "Type-TH                 True\n",
              "Type-EN                 True\n",
              "SubType-TH              True\n",
              "SubType-EN              True\n",
              "Attraction-name TH      True\n",
              "Attraction-name EN      True\n",
              "Organization-Unit-TH    True\n",
              "Organization-Unit-EN    True\n",
              "Latitude                True\n",
              "Longtiude               True\n",
              "Open-Houre              True\n",
              "Image-URL               True\n",
              "Facility                True\n",
              "Contact                 True\n",
              "Province                True\n",
              "District                True\n",
              "Subdistrict             True\n",
              "dtype: bool"
            ]
          },
          "metadata": {
            "tags": []
          },
          "execution_count": 10
        }
      ]
    },
    {
      "cell_type": "code",
      "metadata": {
        "id": "teN1QZuedbNg"
      },
      "source": [
        "dnp_attraction_df_nm = dnp_attraction_df.dropna()"
      ],
      "execution_count": 11,
      "outputs": []
    },
    {
      "cell_type": "code",
      "metadata": {
        "id": "mM_SAAJEdi4I",
        "colab": {
          "base_uri": "https://localhost:8080/"
        },
        "outputId": "c6e0f372-441c-445f-82c6-7e2c425c9350"
      },
      "source": [
        "dnp_attraction_df_nm.isnull().any().any()"
      ],
      "execution_count": 12,
      "outputs": [
        {
          "output_type": "execute_result",
          "data": {
            "text/plain": [
              "False"
            ]
          },
          "metadata": {
            "tags": []
          },
          "execution_count": 12
        }
      ]
    },
    {
      "cell_type": "code",
      "metadata": {
        "id": "w0H1KbZ9dmZg",
        "colab": {
          "base_uri": "https://localhost:8080/"
        },
        "outputId": "21217b0d-bb36-4f37-c2a5-2a1abad5ed4d"
      },
      "source": [
        "print(dnp_attraction_df.shape)\n",
        "print(dnp_attraction_df_nm.shape)"
      ],
      "execution_count": 13,
      "outputs": [
        {
          "output_type": "stream",
          "text": [
            "(1431, 17)\n",
            "(16, 17)\n"
          ],
          "name": "stdout"
        }
      ]
    },
    {
      "cell_type": "code",
      "metadata": {
        "id": "W3BK8RKcdNr4",
        "colab": {
          "base_uri": "https://localhost:8080/",
          "height": 438
        },
        "outputId": "ef5850ad-aa33-4ed7-90c6-3cd56b64c699"
      },
      "source": [
        "visitors_df.isnull()"
      ],
      "execution_count": 14,
      "outputs": [
        {
          "output_type": "execute_result",
          "data": {
            "text/html": [
              "<div>\n",
              "<style scoped>\n",
              "    .dataframe tbody tr th:only-of-type {\n",
              "        vertical-align: middle;\n",
              "    }\n",
              "\n",
              "    .dataframe tbody tr th {\n",
              "        vertical-align: top;\n",
              "    }\n",
              "\n",
              "    .dataframe thead th {\n",
              "        text-align: right;\n",
              "    }\n",
              "</style>\n",
              "<table border=\"1\" class=\"dataframe\">\n",
              "  <thead>\n",
              "    <tr style=\"text-align: right;\">\n",
              "      <th></th>\n",
              "      <th>จังหวัด</th>\n",
              "      <th>รหัสจังหวัด</th>\n",
              "      <th>2549</th>\n",
              "      <th>2550</th>\n",
              "      <th>2551</th>\n",
              "      <th>2552</th>\n",
              "      <th>2553</th>\n",
              "      <th>2554</th>\n",
              "      <th>2555</th>\n",
              "      <th>2556</th>\n",
              "      <th>2557</th>\n",
              "      <th>2558</th>\n",
              "      <th>2559</th>\n",
              "      <th>2560</th>\n",
              "      <th>2561</th>\n",
              "      <th>SUM</th>\n",
              "    </tr>\n",
              "  </thead>\n",
              "  <tbody>\n",
              "    <tr>\n",
              "      <th>0</th>\n",
              "      <td>False</td>\n",
              "      <td>False</td>\n",
              "      <td>False</td>\n",
              "      <td>False</td>\n",
              "      <td>False</td>\n",
              "      <td>False</td>\n",
              "      <td>False</td>\n",
              "      <td>False</td>\n",
              "      <td>False</td>\n",
              "      <td>False</td>\n",
              "      <td>False</td>\n",
              "      <td>False</td>\n",
              "      <td>False</td>\n",
              "      <td>False</td>\n",
              "      <td>False</td>\n",
              "      <td>False</td>\n",
              "    </tr>\n",
              "    <tr>\n",
              "      <th>1</th>\n",
              "      <td>False</td>\n",
              "      <td>False</td>\n",
              "      <td>False</td>\n",
              "      <td>False</td>\n",
              "      <td>False</td>\n",
              "      <td>False</td>\n",
              "      <td>False</td>\n",
              "      <td>False</td>\n",
              "      <td>False</td>\n",
              "      <td>False</td>\n",
              "      <td>False</td>\n",
              "      <td>False</td>\n",
              "      <td>False</td>\n",
              "      <td>False</td>\n",
              "      <td>False</td>\n",
              "      <td>False</td>\n",
              "    </tr>\n",
              "    <tr>\n",
              "      <th>2</th>\n",
              "      <td>False</td>\n",
              "      <td>False</td>\n",
              "      <td>False</td>\n",
              "      <td>False</td>\n",
              "      <td>False</td>\n",
              "      <td>False</td>\n",
              "      <td>False</td>\n",
              "      <td>False</td>\n",
              "      <td>False</td>\n",
              "      <td>False</td>\n",
              "      <td>False</td>\n",
              "      <td>False</td>\n",
              "      <td>False</td>\n",
              "      <td>False</td>\n",
              "      <td>False</td>\n",
              "      <td>False</td>\n",
              "    </tr>\n",
              "    <tr>\n",
              "      <th>3</th>\n",
              "      <td>False</td>\n",
              "      <td>False</td>\n",
              "      <td>False</td>\n",
              "      <td>False</td>\n",
              "      <td>False</td>\n",
              "      <td>False</td>\n",
              "      <td>False</td>\n",
              "      <td>False</td>\n",
              "      <td>False</td>\n",
              "      <td>False</td>\n",
              "      <td>False</td>\n",
              "      <td>False</td>\n",
              "      <td>False</td>\n",
              "      <td>False</td>\n",
              "      <td>False</td>\n",
              "      <td>False</td>\n",
              "    </tr>\n",
              "    <tr>\n",
              "      <th>4</th>\n",
              "      <td>False</td>\n",
              "      <td>False</td>\n",
              "      <td>False</td>\n",
              "      <td>False</td>\n",
              "      <td>False</td>\n",
              "      <td>False</td>\n",
              "      <td>False</td>\n",
              "      <td>False</td>\n",
              "      <td>False</td>\n",
              "      <td>False</td>\n",
              "      <td>False</td>\n",
              "      <td>False</td>\n",
              "      <td>False</td>\n",
              "      <td>False</td>\n",
              "      <td>False</td>\n",
              "      <td>False</td>\n",
              "    </tr>\n",
              "    <tr>\n",
              "      <th>...</th>\n",
              "      <td>...</td>\n",
              "      <td>...</td>\n",
              "      <td>...</td>\n",
              "      <td>...</td>\n",
              "      <td>...</td>\n",
              "      <td>...</td>\n",
              "      <td>...</td>\n",
              "      <td>...</td>\n",
              "      <td>...</td>\n",
              "      <td>...</td>\n",
              "      <td>...</td>\n",
              "      <td>...</td>\n",
              "      <td>...</td>\n",
              "      <td>...</td>\n",
              "      <td>...</td>\n",
              "      <td>...</td>\n",
              "    </tr>\n",
              "    <tr>\n",
              "      <th>72</th>\n",
              "      <td>False</td>\n",
              "      <td>False</td>\n",
              "      <td>False</td>\n",
              "      <td>False</td>\n",
              "      <td>False</td>\n",
              "      <td>False</td>\n",
              "      <td>False</td>\n",
              "      <td>False</td>\n",
              "      <td>False</td>\n",
              "      <td>False</td>\n",
              "      <td>False</td>\n",
              "      <td>False</td>\n",
              "      <td>False</td>\n",
              "      <td>False</td>\n",
              "      <td>False</td>\n",
              "      <td>False</td>\n",
              "    </tr>\n",
              "    <tr>\n",
              "      <th>73</th>\n",
              "      <td>False</td>\n",
              "      <td>False</td>\n",
              "      <td>False</td>\n",
              "      <td>False</td>\n",
              "      <td>False</td>\n",
              "      <td>False</td>\n",
              "      <td>False</td>\n",
              "      <td>False</td>\n",
              "      <td>False</td>\n",
              "      <td>False</td>\n",
              "      <td>False</td>\n",
              "      <td>False</td>\n",
              "      <td>False</td>\n",
              "      <td>False</td>\n",
              "      <td>False</td>\n",
              "      <td>False</td>\n",
              "    </tr>\n",
              "    <tr>\n",
              "      <th>74</th>\n",
              "      <td>False</td>\n",
              "      <td>False</td>\n",
              "      <td>False</td>\n",
              "      <td>False</td>\n",
              "      <td>False</td>\n",
              "      <td>False</td>\n",
              "      <td>False</td>\n",
              "      <td>False</td>\n",
              "      <td>False</td>\n",
              "      <td>False</td>\n",
              "      <td>False</td>\n",
              "      <td>False</td>\n",
              "      <td>False</td>\n",
              "      <td>False</td>\n",
              "      <td>False</td>\n",
              "      <td>False</td>\n",
              "    </tr>\n",
              "    <tr>\n",
              "      <th>75</th>\n",
              "      <td>False</td>\n",
              "      <td>False</td>\n",
              "      <td>False</td>\n",
              "      <td>False</td>\n",
              "      <td>False</td>\n",
              "      <td>False</td>\n",
              "      <td>False</td>\n",
              "      <td>False</td>\n",
              "      <td>False</td>\n",
              "      <td>False</td>\n",
              "      <td>False</td>\n",
              "      <td>False</td>\n",
              "      <td>False</td>\n",
              "      <td>False</td>\n",
              "      <td>False</td>\n",
              "      <td>False</td>\n",
              "    </tr>\n",
              "    <tr>\n",
              "      <th>76</th>\n",
              "      <td>False</td>\n",
              "      <td>False</td>\n",
              "      <td>False</td>\n",
              "      <td>False</td>\n",
              "      <td>False</td>\n",
              "      <td>False</td>\n",
              "      <td>False</td>\n",
              "      <td>False</td>\n",
              "      <td>False</td>\n",
              "      <td>False</td>\n",
              "      <td>False</td>\n",
              "      <td>False</td>\n",
              "      <td>False</td>\n",
              "      <td>False</td>\n",
              "      <td>False</td>\n",
              "      <td>False</td>\n",
              "    </tr>\n",
              "  </tbody>\n",
              "</table>\n",
              "<p>77 rows × 16 columns</p>\n",
              "</div>"
            ],
            "text/plain": [
              "    จังหวัด  รหัสจังหวัด   2549   2550  ...   2559   2560   2561    SUM\n",
              "0     False        False  False  False  ...  False  False  False  False\n",
              "1     False        False  False  False  ...  False  False  False  False\n",
              "2     False        False  False  False  ...  False  False  False  False\n",
              "3     False        False  False  False  ...  False  False  False  False\n",
              "4     False        False  False  False  ...  False  False  False  False\n",
              "..      ...          ...    ...    ...  ...    ...    ...    ...    ...\n",
              "72    False        False  False  False  ...  False  False  False  False\n",
              "73    False        False  False  False  ...  False  False  False  False\n",
              "74    False        False  False  False  ...  False  False  False  False\n",
              "75    False        False  False  False  ...  False  False  False  False\n",
              "76    False        False  False  False  ...  False  False  False  False\n",
              "\n",
              "[77 rows x 16 columns]"
            ]
          },
          "metadata": {
            "tags": []
          },
          "execution_count": 14
        }
      ]
    },
    {
      "cell_type": "code",
      "metadata": {
        "id": "iUb-KV67drM4",
        "colab": {
          "base_uri": "https://localhost:8080/"
        },
        "outputId": "235448a1-f463-496a-a747-f3c2c68418ff"
      },
      "source": [
        "visitors_df.isnull().any()"
      ],
      "execution_count": 15,
      "outputs": [
        {
          "output_type": "execute_result",
          "data": {
            "text/plain": [
              "จังหวัด        False\n",
              "รหัสจังหวัด    False\n",
              "2549            True\n",
              "2550            True\n",
              "2551            True\n",
              "2552            True\n",
              "2553            True\n",
              "2554           False\n",
              "2555           False\n",
              "2556           False\n",
              "2557           False\n",
              "2558           False\n",
              "2559           False\n",
              "2560           False\n",
              "2561           False\n",
              "SUM             True\n",
              "dtype: bool"
            ]
          },
          "metadata": {
            "tags": []
          },
          "execution_count": 15
        }
      ]
    },
    {
      "cell_type": "code",
      "metadata": {
        "id": "mD19V7Ndds4H"
      },
      "source": [
        "visitors_df_nm = visitors_df.dropna()"
      ],
      "execution_count": 16,
      "outputs": []
    },
    {
      "cell_type": "code",
      "metadata": {
        "id": "vBiwYW2cdu1Y",
        "colab": {
          "base_uri": "https://localhost:8080/"
        },
        "outputId": "4a5ae82e-0a11-4877-8f49-e9b7ba9ef5ba"
      },
      "source": [
        "visitors_df_nm.isnull().any().any()"
      ],
      "execution_count": 17,
      "outputs": [
        {
          "output_type": "execute_result",
          "data": {
            "text/plain": [
              "False"
            ]
          },
          "metadata": {
            "tags": []
          },
          "execution_count": 17
        }
      ]
    },
    {
      "cell_type": "code",
      "metadata": {
        "id": "W9m0VWxQdwxI",
        "colab": {
          "base_uri": "https://localhost:8080/"
        },
        "outputId": "43e06eb3-be1c-46e9-9588-78a0a17d54fe"
      },
      "source": [
        "print(visitors_df.shape)\n",
        "print(visitors_df_nm.shape)"
      ],
      "execution_count": 18,
      "outputs": [
        {
          "output_type": "stream",
          "text": [
            "(77, 16)\n",
            "(76, 16)\n"
          ],
          "name": "stdout"
        }
      ]
    },
    {
      "cell_type": "markdown",
      "metadata": {
        "id": "HS1vkFpzeR0A"
      },
      "source": [
        "##การตรวจสอบว่า การลบข้อมูล missing ออก\n",
        "จากตาราง dnp_attraction และ visitors จะทำให้ข้อมูลลดลงกี่ %"
      ]
    },
    {
      "cell_type": "code",
      "metadata": {
        "id": "aUkvxOKrd_gg",
        "colab": {
          "base_uri": "https://localhost:8080/"
        },
        "outputId": "2f758cce-f3c9-462e-e026-4fbe4b1490ee"
      },
      "source": [
        "size_before_drop = dnp_attraction_df.shape[0]\n",
        "size_after_drop = dnp_attraction_df.dropna().shape[0]\n",
        "\n",
        "print(f'size before drop = {size_before_drop} \\nsize after drop = {size_after_drop} \\\n",
        "    \\nwhich is {100*((size_before_drop-size_after_drop)/size_before_drop)}')"
      ],
      "execution_count": 19,
      "outputs": [
        {
          "output_type": "stream",
          "text": [
            "size before drop = 1431 \n",
            "size after drop = 16     \n",
            "which is 98.88190076869321\n"
          ],
          "name": "stdout"
        }
      ]
    },
    {
      "cell_type": "code",
      "metadata": {
        "id": "ywbsVa9JeBWR",
        "colab": {
          "base_uri": "https://localhost:8080/"
        },
        "outputId": "a7bb67a8-29c5-484d-e0b1-44837db474b8"
      },
      "source": [
        "size_before_drop = visitors_df.shape[0]\n",
        "size_after_drop = visitors_df.dropna().shape[0]\n",
        "\n",
        "print(f'size before drop = {size_before_drop} \\nsize after drop = {size_after_drop} \\\n",
        "    \\nwhich is {100*((size_before_drop-size_after_drop)/size_before_drop)}')"
      ],
      "execution_count": 20,
      "outputs": [
        {
          "output_type": "stream",
          "text": [
            "size before drop = 77 \n",
            "size after drop = 76     \n",
            "which is 1.2987012987012987\n"
          ],
          "name": "stdout"
        }
      ]
    },
    {
      "cell_type": "markdown",
      "metadata": {
        "id": "PydgGSFkfC6H"
      },
      "source": [
        "วิธีที่ 2 เต็มค่าที่เหมาะสม"
      ]
    },
    {
      "cell_type": "code",
      "metadata": {
        "id": "CBPAvIykfIde"
      },
      "source": [
        "dnp_attraction_df[['SubType-TH']] = dnp_attraction_df[['SubType-TH']].fillna(0)\n",
        "dnp_attraction_df[['SubType-EN']] = dnp_attraction_df[['SubType-EN']].fillna(0)\n",
        "dnp_attraction_df[['Attraction-name EN']] = dnp_attraction_df[['Attraction-name EN']].fillna(0)\n",
        "dnp_attraction_df[['Organization-Unit-EN']] = dnp_attraction_df[['Organization-Unit-EN']].fillna(0)\n",
        "dnp_attraction_df[['Latitude']] = dnp_attraction_df[['Latitude']].fillna(0)\n",
        "dnp_attraction_df[['Longtiude']] = dnp_attraction_df[['Longtiude']].fillna(0)\n",
        "dnp_attraction_df[['Open-Houre']] = dnp_attraction_df[['Open-Houre']].fillna(0)\n",
        "dnp_attraction_df[['Image-URL']] = dnp_attraction_df[['Image-URL']].fillna(0)\n",
        "dnp_attraction_df[['Facility']] = dnp_attraction_df[['Facility']].fillna(0)\n",
        "dnp_attraction_df[['Contact']] = dnp_attraction_df[['Contact']].fillna(0)\n",
        "dnp_attraction_df[['Province']] = dnp_attraction_df[['Province']].fillna(0)\n",
        "dnp_attraction_df[['District']] = dnp_attraction_df[['District']].fillna(0)\n",
        "dnp_attraction_df[['Subdistrict']] = dnp_attraction_df[['Subdistrict']].fillna(0)"
      ],
      "execution_count": 21,
      "outputs": []
    },
    {
      "cell_type": "code",
      "metadata": {
        "id": "5zlHJNg9hc5I",
        "colab": {
          "base_uri": "https://localhost:8080/"
        },
        "outputId": "c52efbc0-1dc2-4c47-b9a8-270dee47c69e"
      },
      "source": [
        "dnp_attraction_df.isnull().any()"
      ],
      "execution_count": 22,
      "outputs": [
        {
          "output_type": "execute_result",
          "data": {
            "text/plain": [
              "Type-TH                  True\n",
              "Type-EN                  True\n",
              "SubType-TH              False\n",
              "SubType-EN              False\n",
              "Attraction-name TH       True\n",
              "Attraction-name EN      False\n",
              "Organization-Unit-TH     True\n",
              "Organization-Unit-EN    False\n",
              "Latitude                False\n",
              "Longtiude               False\n",
              "Open-Houre              False\n",
              "Image-URL               False\n",
              "Facility                False\n",
              "Contact                 False\n",
              "Province                False\n",
              "District                False\n",
              "Subdistrict             False\n",
              "dtype: bool"
            ]
          },
          "metadata": {
            "tags": []
          },
          "execution_count": 22
        }
      ]
    },
    {
      "cell_type": "code",
      "metadata": {
        "id": "Xn0H5vpHnULm"
      },
      "source": [
        "visitors_df[['2549']] = visitors_df[['2549']].fillna(0)\n",
        "visitors_df[['2550']] = visitors_df[['2550']].fillna(0)\n",
        "visitors_df[['2551']] = visitors_df[['2551']].fillna(0)\n",
        "visitors_df[['2552']] = visitors_df[['2552']].fillna(0)\n",
        "visitors_df[['2553']] = visitors_df[['2553']].fillna(0)"
      ],
      "execution_count": 23,
      "outputs": []
    },
    {
      "cell_type": "code",
      "metadata": {
        "id": "YBFU6XYFoXGY",
        "colab": {
          "base_uri": "https://localhost:8080/"
        },
        "outputId": "37f9d876-50fa-48cb-c125-b9e68a4f6c9f"
      },
      "source": [
        "visitors_df.isnull().any()"
      ],
      "execution_count": 24,
      "outputs": [
        {
          "output_type": "execute_result",
          "data": {
            "text/plain": [
              "จังหวัด        False\n",
              "รหัสจังหวัด    False\n",
              "2549           False\n",
              "2550           False\n",
              "2551           False\n",
              "2552           False\n",
              "2553           False\n",
              "2554           False\n",
              "2555           False\n",
              "2556           False\n",
              "2557           False\n",
              "2558           False\n",
              "2559           False\n",
              "2560           False\n",
              "2561           False\n",
              "SUM             True\n",
              "dtype: bool"
            ]
          },
          "metadata": {
            "tags": []
          },
          "execution_count": 24
        }
      ]
    },
    {
      "cell_type": "markdown",
      "metadata": {
        "id": "cg4QH75Dpg1-"
      },
      "source": [
        "##merge two tables (.merge())"
      ]
    },
    {
      "cell_type": "code",
      "metadata": {
        "id": "7qB-zI0dpd5s",
        "colab": {
          "base_uri": "https://localhost:8080/",
          "height": 1000
        },
        "outputId": "605b95e9-1b8a-4a55-f2c7-8db05526a6b7"
      },
      "source": [
        "merged_table = dnp_attraction_df.merge(visitors_df,how='left',left_on='Province',right_on='จังหวัด')\n",
        "merged_table"
      ],
      "execution_count": 25,
      "outputs": [
        {
          "output_type": "execute_result",
          "data": {
            "text/html": [
              "<div>\n",
              "<style scoped>\n",
              "    .dataframe tbody tr th:only-of-type {\n",
              "        vertical-align: middle;\n",
              "    }\n",
              "\n",
              "    .dataframe tbody tr th {\n",
              "        vertical-align: top;\n",
              "    }\n",
              "\n",
              "    .dataframe thead th {\n",
              "        text-align: right;\n",
              "    }\n",
              "</style>\n",
              "<table border=\"1\" class=\"dataframe\">\n",
              "  <thead>\n",
              "    <tr style=\"text-align: right;\">\n",
              "      <th></th>\n",
              "      <th>Type-TH</th>\n",
              "      <th>Type-EN</th>\n",
              "      <th>SubType-TH</th>\n",
              "      <th>SubType-EN</th>\n",
              "      <th>Attraction-name TH</th>\n",
              "      <th>Attraction-name EN</th>\n",
              "      <th>Organization-Unit-TH</th>\n",
              "      <th>Organization-Unit-EN</th>\n",
              "      <th>Latitude</th>\n",
              "      <th>Longtiude</th>\n",
              "      <th>Open-Houre</th>\n",
              "      <th>Image-URL</th>\n",
              "      <th>Facility</th>\n",
              "      <th>Contact</th>\n",
              "      <th>Province</th>\n",
              "      <th>District</th>\n",
              "      <th>Subdistrict</th>\n",
              "      <th>จังหวัด</th>\n",
              "      <th>รหัสจังหวัด</th>\n",
              "      <th>2549</th>\n",
              "      <th>2550</th>\n",
              "      <th>2551</th>\n",
              "      <th>2552</th>\n",
              "      <th>2553</th>\n",
              "      <th>2554</th>\n",
              "      <th>2555</th>\n",
              "      <th>2556</th>\n",
              "      <th>2557</th>\n",
              "      <th>2558</th>\n",
              "      <th>2559</th>\n",
              "      <th>2560</th>\n",
              "      <th>2561</th>\n",
              "      <th>SUM</th>\n",
              "    </tr>\n",
              "  </thead>\n",
              "  <tbody>\n",
              "    <tr>\n",
              "      <th>0</th>\n",
              "      <td>สวนพฤกษศาสตร์</td>\n",
              "      <td>Botanical Garden</td>\n",
              "      <td>-</td>\n",
              "      <td>-</td>\n",
              "      <td>สวนพฤกษศาสตร์วังน้ำเย็น</td>\n",
              "      <td>Wang Nam Yen Botanical Garden</td>\n",
              "      <td>สำนักวิจัยการอนุรักษ์ป่าไม้และพันธุ์พืช</td>\n",
              "      <td>Forest and Plant Conservation Research Office</td>\n",
              "      <td>13.497</td>\n",
              "      <td>102.015</td>\n",
              "      <td>ทุกวัน (เวลาราชการ 8.30 น. -16.30 น.)</td>\n",
              "      <td>http://www.dnp.go.th/MFCD3/oganization/%E0%B8%...</td>\n",
              "      <td>-บ้านพัก ห้องประชุม</td>\n",
              "      <td>089-811-031</td>\n",
              "      <td>สระแก้ว</td>\n",
              "      <td>วังน้ำเย็น</td>\n",
              "      <td>ทุ่งมหาเจริญ</td>\n",
              "      <td>สระแก้ว</td>\n",
              "      <td>th-sk</td>\n",
              "      <td>1211832.0</td>\n",
              "      <td>1298204.0</td>\n",
              "      <td>1585812.0</td>\n",
              "      <td>1039512.0</td>\n",
              "      <td>1053226.0</td>\n",
              "      <td>1055807.0</td>\n",
              "      <td>1537656.0</td>\n",
              "      <td>1641734.0</td>\n",
              "      <td>1691752.0</td>\n",
              "      <td>1790612.0</td>\n",
              "      <td>2056132.0</td>\n",
              "      <td>2155142.0</td>\n",
              "      <td>2252606.0</td>\n",
              "      <td>20370027.0</td>\n",
              "    </tr>\n",
              "    <tr>\n",
              "      <th>1</th>\n",
              "      <td>สวนพฤกษศาสตร์</td>\n",
              "      <td>Botanical Garden</td>\n",
              "      <td>-</td>\n",
              "      <td>-</td>\n",
              "      <td>สวนพฤกษศาสตร์พุแค</td>\n",
              "      <td>Phu Khae Botanical Garden</td>\n",
              "      <td>สำนักวิจัยการอนุรักษ์ป่าไม้และพันธุ์พืช</td>\n",
              "      <td>Forest and Plant Conservation Research Office</td>\n",
              "      <td>14.6712</td>\n",
              "      <td>100.8846</td>\n",
              "      <td>ทุกวัน (เวลาราชการ 8.30 น. -16.30 น.)</td>\n",
              "      <td>http://saraburi.dnp.go.th/sever/saraburisite/w...</td>\n",
              "      <td>-บ้านพัก ห้องประชุม</td>\n",
              "      <td>036-347-457</td>\n",
              "      <td>สระบุรี</td>\n",
              "      <td>เฉลิมพระเกียรติ</td>\n",
              "      <td>พุแค</td>\n",
              "      <td>สระบุรี</td>\n",
              "      <td>th-sr</td>\n",
              "      <td>2467126.0</td>\n",
              "      <td>2573160.0</td>\n",
              "      <td>1902264.0</td>\n",
              "      <td>2348662.0</td>\n",
              "      <td>3124952.0</td>\n",
              "      <td>3323861.0</td>\n",
              "      <td>3611197.0</td>\n",
              "      <td>3758125.0</td>\n",
              "      <td>3671852.0</td>\n",
              "      <td>3901204.0</td>\n",
              "      <td>4033081.0</td>\n",
              "      <td>4204992.0</td>\n",
              "      <td>4356276.0</td>\n",
              "      <td>43276752.0</td>\n",
              "    </tr>\n",
              "    <tr>\n",
              "      <th>2</th>\n",
              "      <td>สวนพฤกษศาสตร์</td>\n",
              "      <td>Botanical Garden</td>\n",
              "      <td>-</td>\n",
              "      <td>-</td>\n",
              "      <td>สวนพฤกษศาสตร์บ้านเพ</td>\n",
              "      <td>Ban Phe Botanical Garden</td>\n",
              "      <td>สำนักวิจัยการอนุรักษ์ป่าไม้และพันธุ์พืช</td>\n",
              "      <td>Forest and Plant Conservation Research Office</td>\n",
              "      <td>12.6335</td>\n",
              "      <td>101.4586</td>\n",
              "      <td>ทุกวัน (เวลาราชการ 8.30 น. -16.30 น.)</td>\n",
              "      <td>0</td>\n",
              "      <td>-บ้านพัก ห้องประชุม</td>\n",
              "      <td>038-653-022</td>\n",
              "      <td>ระยอง</td>\n",
              "      <td>เมืองระยอง</td>\n",
              "      <td>แกลง</td>\n",
              "      <td>ระยอง</td>\n",
              "      <td>th-ry</td>\n",
              "      <td>3346871.0</td>\n",
              "      <td>3911140.0</td>\n",
              "      <td>4443413.0</td>\n",
              "      <td>3417196.0</td>\n",
              "      <td>4634970.0</td>\n",
              "      <td>4583551.0</td>\n",
              "      <td>5347954.0</td>\n",
              "      <td>5643533.0</td>\n",
              "      <td>6150336.0</td>\n",
              "      <td>6650710.0</td>\n",
              "      <td>6929843.0</td>\n",
              "      <td>7319948.0</td>\n",
              "      <td>7761662.0</td>\n",
              "      <td>70141127.0</td>\n",
              "    </tr>\n",
              "    <tr>\n",
              "      <th>3</th>\n",
              "      <td>สวนพฤกษศาสตร์</td>\n",
              "      <td>Botanical Garden</td>\n",
              "      <td>-</td>\n",
              "      <td>-</td>\n",
              "      <td>สวนพฤกษศาสตร์เขาหินซ้อน</td>\n",
              "      <td>Khao Hin Son Botanical Garden</td>\n",
              "      <td>สำนักวิจัยการอนุรักษ์ป่าไม้และพันธุ์พืช</td>\n",
              "      <td>Forest and Plant Conservation Research Office</td>\n",
              "      <td>13.7526</td>\n",
              "      <td>101.5064</td>\n",
              "      <td>ทุกวัน (เวลาราชการ 8.30 น. -16.30 น.)</td>\n",
              "      <td>http://www.khaohinsonbg.org/</td>\n",
              "      <td>-บ้านพัก ห้องประชุม</td>\n",
              "      <td>038-599-113, 038-554-920</td>\n",
              "      <td>ฉะเชิงเทรา</td>\n",
              "      <td>พนมสารคาม</td>\n",
              "      <td>เขาหินซ้อน</td>\n",
              "      <td>ฉะเชิงเทรา</td>\n",
              "      <td>th-cc</td>\n",
              "      <td>1672583.0</td>\n",
              "      <td>1768066.0</td>\n",
              "      <td>1914285.0</td>\n",
              "      <td>1662322.0</td>\n",
              "      <td>1738887.0</td>\n",
              "      <td>1358491.0</td>\n",
              "      <td>2615076.0</td>\n",
              "      <td>2740284.0</td>\n",
              "      <td>2794003.0</td>\n",
              "      <td>2934944.0</td>\n",
              "      <td>3047651.0</td>\n",
              "      <td>3239899.0</td>\n",
              "      <td>3408573.0</td>\n",
              "      <td>30895064.0</td>\n",
              "    </tr>\n",
              "    <tr>\n",
              "      <th>4</th>\n",
              "      <td>สวนพฤกษศาสตร์</td>\n",
              "      <td>Botanical Garden</td>\n",
              "      <td>-</td>\n",
              "      <td>-</td>\n",
              "      <td>สวนพฤกษศาสตร์เขาช่อง</td>\n",
              "      <td>Khao Chong Botanical Garden</td>\n",
              "      <td>สำนักวิจัยการอนุรักษ์ป่าไม้และพันธุ์พืช</td>\n",
              "      <td>Forest and Plant Conservation Research Office</td>\n",
              "      <td>7.5577</td>\n",
              "      <td>99.7761</td>\n",
              "      <td>ทุกวัน (เวลาราชการ 8.30 น. -16.30 น.)</td>\n",
              "      <td>0</td>\n",
              "      <td>-บ้านพัก ห้องประชุม</td>\n",
              "      <td>075-573-521</td>\n",
              "      <td>ตรัง</td>\n",
              "      <td>นาโยง</td>\n",
              "      <td>นาโยง</td>\n",
              "      <td>ตรัง</td>\n",
              "      <td>th-tg</td>\n",
              "      <td>726373.0</td>\n",
              "      <td>858638.0</td>\n",
              "      <td>993615.0</td>\n",
              "      <td>843606.0</td>\n",
              "      <td>1110021.0</td>\n",
              "      <td>1007717.0</td>\n",
              "      <td>1137961.0</td>\n",
              "      <td>1281663.0</td>\n",
              "      <td>1308968.0</td>\n",
              "      <td>1414663.0</td>\n",
              "      <td>1465811.0</td>\n",
              "      <td>1514092.0</td>\n",
              "      <td>1578906.0</td>\n",
              "      <td>15242034.0</td>\n",
              "    </tr>\n",
              "    <tr>\n",
              "      <th>...</th>\n",
              "      <td>...</td>\n",
              "      <td>...</td>\n",
              "      <td>...</td>\n",
              "      <td>...</td>\n",
              "      <td>...</td>\n",
              "      <td>...</td>\n",
              "      <td>...</td>\n",
              "      <td>...</td>\n",
              "      <td>...</td>\n",
              "      <td>...</td>\n",
              "      <td>...</td>\n",
              "      <td>...</td>\n",
              "      <td>...</td>\n",
              "      <td>...</td>\n",
              "      <td>...</td>\n",
              "      <td>...</td>\n",
              "      <td>...</td>\n",
              "      <td>...</td>\n",
              "      <td>...</td>\n",
              "      <td>...</td>\n",
              "      <td>...</td>\n",
              "      <td>...</td>\n",
              "      <td>...</td>\n",
              "      <td>...</td>\n",
              "      <td>...</td>\n",
              "      <td>...</td>\n",
              "      <td>...</td>\n",
              "      <td>...</td>\n",
              "      <td>...</td>\n",
              "      <td>...</td>\n",
              "      <td>...</td>\n",
              "      <td>...</td>\n",
              "      <td>...</td>\n",
              "    </tr>\n",
              "    <tr>\n",
              "      <th>1426</th>\n",
              "      <td>ทางทะเล</td>\n",
              "      <td>marine</td>\n",
              "      <td>ศิลปวัฒนธรรม / โบราณสถาน</td>\n",
              "      <td>Cultural / Historic Site</td>\n",
              "      <td>วัดกระดังงา</td>\n",
              "      <td>Khadunkgna Temple</td>\n",
              "      <td>อุทยานแห่งชาติหาดขนอม-หมู่เกาะทะเลใต้ (เตรียมการ)</td>\n",
              "      <td>Hat Khanom - Mu Ko Thale Tai National Park</td>\n",
              "      <td>0</td>\n",
              "      <td>0</td>\n",
              "      <td>0</td>\n",
              "      <td>http://park.dnp.go.th/dnp/scenicpic/9145914500...</td>\n",
              "      <td>0</td>\n",
              "      <td>075 528495</td>\n",
              "      <td>นครศรีธรรมราช</td>\n",
              "      <td>ขนอม</td>\n",
              "      <td>ขนอม</td>\n",
              "      <td>NaN</td>\n",
              "      <td>NaN</td>\n",
              "      <td>NaN</td>\n",
              "      <td>NaN</td>\n",
              "      <td>NaN</td>\n",
              "      <td>NaN</td>\n",
              "      <td>NaN</td>\n",
              "      <td>NaN</td>\n",
              "      <td>NaN</td>\n",
              "      <td>NaN</td>\n",
              "      <td>NaN</td>\n",
              "      <td>NaN</td>\n",
              "      <td>NaN</td>\n",
              "      <td>NaN</td>\n",
              "      <td>NaN</td>\n",
              "      <td>NaN</td>\n",
              "    </tr>\n",
              "    <tr>\n",
              "      <th>1427</th>\n",
              "      <td>ทางทะเล</td>\n",
              "      <td>marine</td>\n",
              "      <td>ทะเล / ชายหาด</td>\n",
              "      <td>Sea / Beach</td>\n",
              "      <td>หาดคอเขา</td>\n",
              "      <td>Khakhao Beach</td>\n",
              "      <td>อุทยานแห่งชาติหาดขนอม-หมู่เกาะทะเลใต้ (เตรียมการ)</td>\n",
              "      <td>Hat Khanom - Mu Ko Thale Tai National Park</td>\n",
              "      <td>0</td>\n",
              "      <td>0</td>\n",
              "      <td>0</td>\n",
              "      <td>http://park.dnp.go.th/dnp/scenicpic/9145914500...</td>\n",
              "      <td>0</td>\n",
              "      <td>075 528495</td>\n",
              "      <td>นครศรีธรรมราช</td>\n",
              "      <td>ขนอม</td>\n",
              "      <td>ขนอม</td>\n",
              "      <td>NaN</td>\n",
              "      <td>NaN</td>\n",
              "      <td>NaN</td>\n",
              "      <td>NaN</td>\n",
              "      <td>NaN</td>\n",
              "      <td>NaN</td>\n",
              "      <td>NaN</td>\n",
              "      <td>NaN</td>\n",
              "      <td>NaN</td>\n",
              "      <td>NaN</td>\n",
              "      <td>NaN</td>\n",
              "      <td>NaN</td>\n",
              "      <td>NaN</td>\n",
              "      <td>NaN</td>\n",
              "      <td>NaN</td>\n",
              "      <td>NaN</td>\n",
              "    </tr>\n",
              "    <tr>\n",
              "      <th>1428</th>\n",
              "      <td>ทางทะเล</td>\n",
              "      <td>marine</td>\n",
              "      <td>ทะเล / ชายหาด</td>\n",
              "      <td>Sea / Beach</td>\n",
              "      <td>หาดท้องหยี</td>\n",
              "      <td>Thonghyi Beach</td>\n",
              "      <td>อุทยานแห่งชาติหาดขนอม-หมู่เกาะทะเลใต้ (เตรียมการ)</td>\n",
              "      <td>Hat Khanom - Mu Ko Thale Tai National Park</td>\n",
              "      <td>0</td>\n",
              "      <td>0</td>\n",
              "      <td>0</td>\n",
              "      <td>http://park.dnp.go.th/dnp/scenicpic/9145914500...</td>\n",
              "      <td>0</td>\n",
              "      <td>075 528495</td>\n",
              "      <td>นครศรีธรรมราช</td>\n",
              "      <td>ขนอม</td>\n",
              "      <td>ขนอม</td>\n",
              "      <td>NaN</td>\n",
              "      <td>NaN</td>\n",
              "      <td>NaN</td>\n",
              "      <td>NaN</td>\n",
              "      <td>NaN</td>\n",
              "      <td>NaN</td>\n",
              "      <td>NaN</td>\n",
              "      <td>NaN</td>\n",
              "      <td>NaN</td>\n",
              "      <td>NaN</td>\n",
              "      <td>NaN</td>\n",
              "      <td>NaN</td>\n",
              "      <td>NaN</td>\n",
              "      <td>NaN</td>\n",
              "      <td>NaN</td>\n",
              "      <td>NaN</td>\n",
              "    </tr>\n",
              "    <tr>\n",
              "      <th>1429</th>\n",
              "      <td>ทางทะเล</td>\n",
              "      <td>marine</td>\n",
              "      <td>ทะเล / ชายหาด</td>\n",
              "      <td>Sea / Beach</td>\n",
              "      <td>หาดหน้าด่าน</td>\n",
              "      <td>Hardan Beach</td>\n",
              "      <td>อุทยานแห่งชาติหาดขนอม-หมู่เกาะทะเลใต้ (เตรียมการ)</td>\n",
              "      <td>Hat Khanom - Mu Ko Thale Tai National Park</td>\n",
              "      <td>0</td>\n",
              "      <td>0</td>\n",
              "      <td>0</td>\n",
              "      <td>http://park.dnp.go.th/dnp/scenicpic/9145914500...</td>\n",
              "      <td>0</td>\n",
              "      <td>075 528495</td>\n",
              "      <td>นครศรีธรรมราช</td>\n",
              "      <td>ขนอม</td>\n",
              "      <td>ขนอม</td>\n",
              "      <td>NaN</td>\n",
              "      <td>NaN</td>\n",
              "      <td>NaN</td>\n",
              "      <td>NaN</td>\n",
              "      <td>NaN</td>\n",
              "      <td>NaN</td>\n",
              "      <td>NaN</td>\n",
              "      <td>NaN</td>\n",
              "      <td>NaN</td>\n",
              "      <td>NaN</td>\n",
              "      <td>NaN</td>\n",
              "      <td>NaN</td>\n",
              "      <td>NaN</td>\n",
              "      <td>NaN</td>\n",
              "      <td>NaN</td>\n",
              "      <td>NaN</td>\n",
              "    </tr>\n",
              "    <tr>\n",
              "      <th>1430</th>\n",
              "      <td>ทางทะเล</td>\n",
              "      <td>marine</td>\n",
              "      <td>ทะเล / ชายหาด</td>\n",
              "      <td>Sea / Beach</td>\n",
              "      <td>หาดในเพลา</td>\n",
              "      <td>Had Naiplao</td>\n",
              "      <td>อุทยานแห่งชาติหาดขนอม-หมู่เกาะทะเลใต้ (เตรียมการ)</td>\n",
              "      <td>Hat Khanom - Mu Ko Thale Tai National Park</td>\n",
              "      <td>0</td>\n",
              "      <td>0</td>\n",
              "      <td>ช่วงมกราคม-เมษายน ,ตลอดทั้งปี ฯลฯ</td>\n",
              "      <td>http://park.dnp.go.th/dnp/scenicpic/9145914500...</td>\n",
              "      <td>0</td>\n",
              "      <td>075 528495</td>\n",
              "      <td>นครศรีธรรมราช</td>\n",
              "      <td>ขนอม</td>\n",
              "      <td>ขนอม</td>\n",
              "      <td>NaN</td>\n",
              "      <td>NaN</td>\n",
              "      <td>NaN</td>\n",
              "      <td>NaN</td>\n",
              "      <td>NaN</td>\n",
              "      <td>NaN</td>\n",
              "      <td>NaN</td>\n",
              "      <td>NaN</td>\n",
              "      <td>NaN</td>\n",
              "      <td>NaN</td>\n",
              "      <td>NaN</td>\n",
              "      <td>NaN</td>\n",
              "      <td>NaN</td>\n",
              "      <td>NaN</td>\n",
              "      <td>NaN</td>\n",
              "      <td>NaN</td>\n",
              "    </tr>\n",
              "  </tbody>\n",
              "</table>\n",
              "<p>1431 rows × 33 columns</p>\n",
              "</div>"
            ],
            "text/plain": [
              "            Type-TH           Type-EN  ...       2561         SUM\n",
              "0     สวนพฤกษศาสตร์  Botanical Garden  ...  2252606.0  20370027.0\n",
              "1     สวนพฤกษศาสตร์  Botanical Garden  ...  4356276.0  43276752.0\n",
              "2     สวนพฤกษศาสตร์  Botanical Garden  ...  7761662.0  70141127.0\n",
              "3     สวนพฤกษศาสตร์  Botanical Garden  ...  3408573.0  30895064.0\n",
              "4     สวนพฤกษศาสตร์  Botanical Garden  ...  1578906.0  15242034.0\n",
              "...             ...               ...  ...        ...         ...\n",
              "1426        ทางทะเล            marine  ...        NaN         NaN\n",
              "1427        ทางทะเล            marine  ...        NaN         NaN\n",
              "1428        ทางทะเล            marine  ...        NaN         NaN\n",
              "1429        ทางทะเล            marine  ...        NaN         NaN\n",
              "1430        ทางทะเล            marine  ...        NaN         NaN\n",
              "\n",
              "[1431 rows x 33 columns]"
            ]
          },
          "metadata": {
            "tags": []
          },
          "execution_count": 25
        }
      ]
    },
    {
      "cell_type": "code",
      "metadata": {
        "id": "jcGoeajKqlDm",
        "colab": {
          "base_uri": "https://localhost:8080/"
        },
        "outputId": "3236c3f3-b9f7-4d01-c66f-ab51fbb56010"
      },
      "source": [
        "merged_table[merged_table['จังหวัด']=='สระแก้ว'].dropna()['2561'].mean()"
      ],
      "execution_count": 26,
      "outputs": [
        {
          "output_type": "execute_result",
          "data": {
            "text/plain": [
              "2252606.0"
            ]
          },
          "metadata": {
            "tags": []
          },
          "execution_count": 26
        }
      ]
    },
    {
      "cell_type": "code",
      "metadata": {
        "id": "wn5H59LRtle9",
        "colab": {
          "base_uri": "https://localhost:8080/"
        },
        "outputId": "715fa752-1719-4b75-f23a-bb4b53afa9a2"
      },
      "source": [
        "merged_table[merged_table['Province']=='ระยอง'].dropna()['2561'].mean()"
      ],
      "execution_count": 27,
      "outputs": [
        {
          "output_type": "execute_result",
          "data": {
            "text/plain": [
              "7761662.0"
            ]
          },
          "metadata": {
            "tags": []
          },
          "execution_count": 27
        }
      ]
    },
    {
      "cell_type": "markdown",
      "metadata": {
        "id": "zKZ3V_lkQFFw"
      },
      "source": [
        "##วิธีเช็ค Summary ของแต่ละคอลัมน์ (count, min, max, mean)"
      ]
    },
    {
      "cell_type": "code",
      "metadata": {
        "colab": {
          "base_uri": "https://localhost:8080/",
          "height": 304
        },
        "id": "DETF8KZVQElL",
        "outputId": "ad7965de-749d-4025-abb7-2dca14fcfd2e"
      },
      "source": [
        "merged_table.describe()"
      ],
      "execution_count": 28,
      "outputs": [
        {
          "output_type": "execute_result",
          "data": {
            "text/html": [
              "<div>\n",
              "<style scoped>\n",
              "    .dataframe tbody tr th:only-of-type {\n",
              "        vertical-align: middle;\n",
              "    }\n",
              "\n",
              "    .dataframe tbody tr th {\n",
              "        vertical-align: top;\n",
              "    }\n",
              "\n",
              "    .dataframe thead th {\n",
              "        text-align: right;\n",
              "    }\n",
              "</style>\n",
              "<table border=\"1\" class=\"dataframe\">\n",
              "  <thead>\n",
              "    <tr style=\"text-align: right;\">\n",
              "      <th></th>\n",
              "      <th>2549</th>\n",
              "      <th>2550</th>\n",
              "      <th>2551</th>\n",
              "      <th>2552</th>\n",
              "      <th>2553</th>\n",
              "      <th>2554</th>\n",
              "      <th>2555</th>\n",
              "      <th>2556</th>\n",
              "      <th>2557</th>\n",
              "      <th>2558</th>\n",
              "      <th>2559</th>\n",
              "      <th>2560</th>\n",
              "      <th>2561</th>\n",
              "      <th>SUM</th>\n",
              "    </tr>\n",
              "  </thead>\n",
              "  <tbody>\n",
              "    <tr>\n",
              "      <th>count</th>\n",
              "      <td>1.310000e+02</td>\n",
              "      <td>1.310000e+02</td>\n",
              "      <td>1.310000e+02</td>\n",
              "      <td>1.310000e+02</td>\n",
              "      <td>1.310000e+02</td>\n",
              "      <td>1.310000e+02</td>\n",
              "      <td>1.310000e+02</td>\n",
              "      <td>1.310000e+02</td>\n",
              "      <td>1.310000e+02</td>\n",
              "      <td>1.310000e+02</td>\n",
              "      <td>1.310000e+02</td>\n",
              "      <td>1.310000e+02</td>\n",
              "      <td>1.310000e+02</td>\n",
              "      <td>1.310000e+02</td>\n",
              "    </tr>\n",
              "    <tr>\n",
              "      <th>mean</th>\n",
              "      <td>1.634992e+06</td>\n",
              "      <td>1.711585e+06</td>\n",
              "      <td>1.685350e+06</td>\n",
              "      <td>1.414458e+06</td>\n",
              "      <td>1.746423e+06</td>\n",
              "      <td>1.988627e+06</td>\n",
              "      <td>2.296990e+06</td>\n",
              "      <td>2.605167e+06</td>\n",
              "      <td>2.903934e+06</td>\n",
              "      <td>3.132514e+06</td>\n",
              "      <td>3.371522e+06</td>\n",
              "      <td>3.659830e+06</td>\n",
              "      <td>3.830910e+06</td>\n",
              "      <td>3.198230e+07</td>\n",
              "    </tr>\n",
              "    <tr>\n",
              "      <th>std</th>\n",
              "      <td>1.569444e+06</td>\n",
              "      <td>1.559765e+06</td>\n",
              "      <td>1.532100e+06</td>\n",
              "      <td>1.289458e+06</td>\n",
              "      <td>1.726696e+06</td>\n",
              "      <td>1.912585e+06</td>\n",
              "      <td>2.058732e+06</td>\n",
              "      <td>2.250758e+06</td>\n",
              "      <td>2.506335e+06</td>\n",
              "      <td>2.694890e+06</td>\n",
              "      <td>3.033289e+06</td>\n",
              "      <td>3.245927e+06</td>\n",
              "      <td>3.409037e+06</td>\n",
              "      <td>2.830756e+07</td>\n",
              "    </tr>\n",
              "    <tr>\n",
              "      <th>min</th>\n",
              "      <td>1.603200e+05</td>\n",
              "      <td>1.319980e+05</td>\n",
              "      <td>1.527480e+05</td>\n",
              "      <td>2.014010e+05</td>\n",
              "      <td>1.841530e+05</td>\n",
              "      <td>1.796870e+05</td>\n",
              "      <td>2.142850e+05</td>\n",
              "      <td>2.356060e+05</td>\n",
              "      <td>2.379250e+05</td>\n",
              "      <td>2.510810e+05</td>\n",
              "      <td>2.571430e+05</td>\n",
              "      <td>2.727390e+05</td>\n",
              "      <td>2.819880e+05</td>\n",
              "      <td>2.761074e+06</td>\n",
              "    </tr>\n",
              "    <tr>\n",
              "      <th>25%</th>\n",
              "      <td>6.604800e+05</td>\n",
              "      <td>6.701545e+05</td>\n",
              "      <td>7.682280e+05</td>\n",
              "      <td>5.586295e+05</td>\n",
              "      <td>6.173010e+05</td>\n",
              "      <td>6.995740e+05</td>\n",
              "      <td>7.300055e+05</td>\n",
              "      <td>7.754710e+05</td>\n",
              "      <td>8.089150e+05</td>\n",
              "      <td>8.809890e+05</td>\n",
              "      <td>9.707240e+05</td>\n",
              "      <td>1.006934e+06</td>\n",
              "      <td>1.074060e+06</td>\n",
              "      <td>9.759466e+06</td>\n",
              "    </tr>\n",
              "    <tr>\n",
              "      <th>50%</th>\n",
              "      <td>1.075715e+06</td>\n",
              "      <td>1.216586e+06</td>\n",
              "      <td>1.152509e+06</td>\n",
              "      <td>9.265520e+05</td>\n",
              "      <td>1.044467e+06</td>\n",
              "      <td>1.055807e+06</td>\n",
              "      <td>1.612978e+06</td>\n",
              "      <td>2.158682e+06</td>\n",
              "      <td>2.368563e+06</td>\n",
              "      <td>2.666113e+06</td>\n",
              "      <td>2.753289e+06</td>\n",
              "      <td>3.125937e+06</td>\n",
              "      <td>3.243323e+06</td>\n",
              "      <td>2.604491e+07</td>\n",
              "    </tr>\n",
              "    <tr>\n",
              "      <th>75%</th>\n",
              "      <td>2.111204e+06</td>\n",
              "      <td>2.058790e+06</td>\n",
              "      <td>1.908274e+06</td>\n",
              "      <td>1.998454e+06</td>\n",
              "      <td>2.135462e+06</td>\n",
              "      <td>2.423186e+06</td>\n",
              "      <td>2.751104e+06</td>\n",
              "      <td>2.971886e+06</td>\n",
              "      <td>3.730398e+06</td>\n",
              "      <td>4.176738e+06</td>\n",
              "      <td>4.475223e+06</td>\n",
              "      <td>4.740683e+06</td>\n",
              "      <td>4.868330e+06</td>\n",
              "      <td>3.620851e+07</td>\n",
              "    </tr>\n",
              "    <tr>\n",
              "      <th>max</th>\n",
              "      <td>7.236704e+06</td>\n",
              "      <td>7.882541e+06</td>\n",
              "      <td>7.067325e+06</td>\n",
              "      <td>5.649895e+06</td>\n",
              "      <td>1.006229e+07</td>\n",
              "      <td>1.082337e+07</td>\n",
              "      <td>1.122440e+07</td>\n",
              "      <td>1.173649e+07</td>\n",
              "      <td>1.084341e+07</td>\n",
              "      <td>1.174222e+07</td>\n",
              "      <td>1.625201e+07</td>\n",
              "      <td>1.740316e+07</td>\n",
              "      <td>1.821154e+07</td>\n",
              "      <td>1.461354e+08</td>\n",
              "    </tr>\n",
              "  </tbody>\n",
              "</table>\n",
              "</div>"
            ],
            "text/plain": [
              "               2549          2550  ...          2561           SUM\n",
              "count  1.310000e+02  1.310000e+02  ...  1.310000e+02  1.310000e+02\n",
              "mean   1.634992e+06  1.711585e+06  ...  3.830910e+06  3.198230e+07\n",
              "std    1.569444e+06  1.559765e+06  ...  3.409037e+06  2.830756e+07\n",
              "min    1.603200e+05  1.319980e+05  ...  2.819880e+05  2.761074e+06\n",
              "25%    6.604800e+05  6.701545e+05  ...  1.074060e+06  9.759466e+06\n",
              "50%    1.075715e+06  1.216586e+06  ...  3.243323e+06  2.604491e+07\n",
              "75%    2.111204e+06  2.058790e+06  ...  4.868330e+06  3.620851e+07\n",
              "max    7.236704e+06  7.882541e+06  ...  1.821154e+07  1.461354e+08\n",
              "\n",
              "[8 rows x 14 columns]"
            ]
          },
          "metadata": {
            "tags": []
          },
          "execution_count": 28
        }
      ]
    },
    {
      "cell_type": "markdown",
      "metadata": {
        "id": "QovT96wbCVUc"
      },
      "source": [
        "###เพื่อหาดูว่าจังหวัดไหนบ้างที่มีสถานที่ท่องเที่ยวเป็นสวนพฤกษศาสตร์"
      ]
    },
    {
      "cell_type": "code",
      "metadata": {
        "id": "UvTHy1ZZgmP8",
        "colab": {
          "base_uri": "https://localhost:8080/",
          "height": 402
        },
        "outputId": "e76263bf-0f0d-425f-f66a-3655f6161689"
      },
      "source": [
        "new_table = merged_table[['จังหวัด','Type-TH','Attraction-name TH','Open-Houre']]\n",
        "new_table"
      ],
      "execution_count": 29,
      "outputs": [
        {
          "output_type": "execute_result",
          "data": {
            "text/html": [
              "<div>\n",
              "<style scoped>\n",
              "    .dataframe tbody tr th:only-of-type {\n",
              "        vertical-align: middle;\n",
              "    }\n",
              "\n",
              "    .dataframe tbody tr th {\n",
              "        vertical-align: top;\n",
              "    }\n",
              "\n",
              "    .dataframe thead th {\n",
              "        text-align: right;\n",
              "    }\n",
              "</style>\n",
              "<table border=\"1\" class=\"dataframe\">\n",
              "  <thead>\n",
              "    <tr style=\"text-align: right;\">\n",
              "      <th></th>\n",
              "      <th>จังหวัด</th>\n",
              "      <th>Type-TH</th>\n",
              "      <th>Attraction-name TH</th>\n",
              "      <th>Open-Houre</th>\n",
              "    </tr>\n",
              "  </thead>\n",
              "  <tbody>\n",
              "    <tr>\n",
              "      <th>0</th>\n",
              "      <td>สระแก้ว</td>\n",
              "      <td>สวนพฤกษศาสตร์</td>\n",
              "      <td>สวนพฤกษศาสตร์วังน้ำเย็น</td>\n",
              "      <td>ทุกวัน (เวลาราชการ 8.30 น. -16.30 น.)</td>\n",
              "    </tr>\n",
              "    <tr>\n",
              "      <th>1</th>\n",
              "      <td>สระบุรี</td>\n",
              "      <td>สวนพฤกษศาสตร์</td>\n",
              "      <td>สวนพฤกษศาสตร์พุแค</td>\n",
              "      <td>ทุกวัน (เวลาราชการ 8.30 น. -16.30 น.)</td>\n",
              "    </tr>\n",
              "    <tr>\n",
              "      <th>2</th>\n",
              "      <td>ระยอง</td>\n",
              "      <td>สวนพฤกษศาสตร์</td>\n",
              "      <td>สวนพฤกษศาสตร์บ้านเพ</td>\n",
              "      <td>ทุกวัน (เวลาราชการ 8.30 น. -16.30 น.)</td>\n",
              "    </tr>\n",
              "    <tr>\n",
              "      <th>3</th>\n",
              "      <td>ฉะเชิงเทรา</td>\n",
              "      <td>สวนพฤกษศาสตร์</td>\n",
              "      <td>สวนพฤกษศาสตร์เขาหินซ้อน</td>\n",
              "      <td>ทุกวัน (เวลาราชการ 8.30 น. -16.30 น.)</td>\n",
              "    </tr>\n",
              "    <tr>\n",
              "      <th>4</th>\n",
              "      <td>ตรัง</td>\n",
              "      <td>สวนพฤกษศาสตร์</td>\n",
              "      <td>สวนพฤกษศาสตร์เขาช่อง</td>\n",
              "      <td>ทุกวัน (เวลาราชการ 8.30 น. -16.30 น.)</td>\n",
              "    </tr>\n",
              "    <tr>\n",
              "      <th>...</th>\n",
              "      <td>...</td>\n",
              "      <td>...</td>\n",
              "      <td>...</td>\n",
              "      <td>...</td>\n",
              "    </tr>\n",
              "    <tr>\n",
              "      <th>1426</th>\n",
              "      <td>NaN</td>\n",
              "      <td>ทางทะเล</td>\n",
              "      <td>วัดกระดังงา</td>\n",
              "      <td>0</td>\n",
              "    </tr>\n",
              "    <tr>\n",
              "      <th>1427</th>\n",
              "      <td>NaN</td>\n",
              "      <td>ทางทะเล</td>\n",
              "      <td>หาดคอเขา</td>\n",
              "      <td>0</td>\n",
              "    </tr>\n",
              "    <tr>\n",
              "      <th>1428</th>\n",
              "      <td>NaN</td>\n",
              "      <td>ทางทะเล</td>\n",
              "      <td>หาดท้องหยี</td>\n",
              "      <td>0</td>\n",
              "    </tr>\n",
              "    <tr>\n",
              "      <th>1429</th>\n",
              "      <td>NaN</td>\n",
              "      <td>ทางทะเล</td>\n",
              "      <td>หาดหน้าด่าน</td>\n",
              "      <td>0</td>\n",
              "    </tr>\n",
              "    <tr>\n",
              "      <th>1430</th>\n",
              "      <td>NaN</td>\n",
              "      <td>ทางทะเล</td>\n",
              "      <td>หาดในเพลา</td>\n",
              "      <td>ช่วงมกราคม-เมษายน ,ตลอดทั้งปี ฯลฯ</td>\n",
              "    </tr>\n",
              "  </tbody>\n",
              "</table>\n",
              "<p>1431 rows × 4 columns</p>\n",
              "</div>"
            ],
            "text/plain": [
              "         จังหวัด  ...                             Open-Houre\n",
              "0        สระแก้ว  ...  ทุกวัน (เวลาราชการ 8.30 น. -16.30 น.)\n",
              "1        สระบุรี  ...  ทุกวัน (เวลาราชการ 8.30 น. -16.30 น.)\n",
              "2          ระยอง  ...  ทุกวัน (เวลาราชการ 8.30 น. -16.30 น.)\n",
              "3     ฉะเชิงเทรา  ...  ทุกวัน (เวลาราชการ 8.30 น. -16.30 น.)\n",
              "4           ตรัง  ...  ทุกวัน (เวลาราชการ 8.30 น. -16.30 น.)\n",
              "...          ...  ...                                    ...\n",
              "1426         NaN  ...                                      0\n",
              "1427         NaN  ...                                      0\n",
              "1428         NaN  ...                                      0\n",
              "1429         NaN  ...                                      0\n",
              "1430         NaN  ...      ช่วงมกราคม-เมษายน ,ตลอดทั้งปี ฯลฯ\n",
              "\n",
              "[1431 rows x 4 columns]"
            ]
          },
          "metadata": {
            "tags": []
          },
          "execution_count": 29
        }
      ]
    },
    {
      "cell_type": "code",
      "metadata": {
        "id": "03W4LQh5gmUz",
        "colab": {
          "base_uri": "https://localhost:8080/"
        },
        "outputId": "112254eb-2b70-41f9-86e0-2f731c9ce08b"
      },
      "source": [
        "selected_list = merged_table['Type-TH']=='สวนพฤกษศาสตร์'\n",
        "selected_list"
      ],
      "execution_count": 30,
      "outputs": [
        {
          "output_type": "execute_result",
          "data": {
            "text/plain": [
              "0        True\n",
              "1        True\n",
              "2        True\n",
              "3        True\n",
              "4        True\n",
              "        ...  \n",
              "1426    False\n",
              "1427    False\n",
              "1428    False\n",
              "1429    False\n",
              "1430    False\n",
              "Name: Type-TH, Length: 1431, dtype: bool"
            ]
          },
          "metadata": {
            "tags": []
          },
          "execution_count": 30
        }
      ]
    },
    {
      "cell_type": "code",
      "metadata": {
        "id": "tMiN3zKxgmb1",
        "colab": {
          "base_uri": "https://localhost:8080/",
          "height": 195
        },
        "outputId": "c7287c79-08a7-4f6f-c795-6bc6f308df6f"
      },
      "source": [
        "new_table[selected_list].head()"
      ],
      "execution_count": 31,
      "outputs": [
        {
          "output_type": "execute_result",
          "data": {
            "text/html": [
              "<div>\n",
              "<style scoped>\n",
              "    .dataframe tbody tr th:only-of-type {\n",
              "        vertical-align: middle;\n",
              "    }\n",
              "\n",
              "    .dataframe tbody tr th {\n",
              "        vertical-align: top;\n",
              "    }\n",
              "\n",
              "    .dataframe thead th {\n",
              "        text-align: right;\n",
              "    }\n",
              "</style>\n",
              "<table border=\"1\" class=\"dataframe\">\n",
              "  <thead>\n",
              "    <tr style=\"text-align: right;\">\n",
              "      <th></th>\n",
              "      <th>จังหวัด</th>\n",
              "      <th>Type-TH</th>\n",
              "      <th>Attraction-name TH</th>\n",
              "      <th>Open-Houre</th>\n",
              "    </tr>\n",
              "  </thead>\n",
              "  <tbody>\n",
              "    <tr>\n",
              "      <th>0</th>\n",
              "      <td>สระแก้ว</td>\n",
              "      <td>สวนพฤกษศาสตร์</td>\n",
              "      <td>สวนพฤกษศาสตร์วังน้ำเย็น</td>\n",
              "      <td>ทุกวัน (เวลาราชการ 8.30 น. -16.30 น.)</td>\n",
              "    </tr>\n",
              "    <tr>\n",
              "      <th>1</th>\n",
              "      <td>สระบุรี</td>\n",
              "      <td>สวนพฤกษศาสตร์</td>\n",
              "      <td>สวนพฤกษศาสตร์พุแค</td>\n",
              "      <td>ทุกวัน (เวลาราชการ 8.30 น. -16.30 น.)</td>\n",
              "    </tr>\n",
              "    <tr>\n",
              "      <th>2</th>\n",
              "      <td>ระยอง</td>\n",
              "      <td>สวนพฤกษศาสตร์</td>\n",
              "      <td>สวนพฤกษศาสตร์บ้านเพ</td>\n",
              "      <td>ทุกวัน (เวลาราชการ 8.30 น. -16.30 น.)</td>\n",
              "    </tr>\n",
              "    <tr>\n",
              "      <th>3</th>\n",
              "      <td>ฉะเชิงเทรา</td>\n",
              "      <td>สวนพฤกษศาสตร์</td>\n",
              "      <td>สวนพฤกษศาสตร์เขาหินซ้อน</td>\n",
              "      <td>ทุกวัน (เวลาราชการ 8.30 น. -16.30 น.)</td>\n",
              "    </tr>\n",
              "    <tr>\n",
              "      <th>4</th>\n",
              "      <td>ตรัง</td>\n",
              "      <td>สวนพฤกษศาสตร์</td>\n",
              "      <td>สวนพฤกษศาสตร์เขาช่อง</td>\n",
              "      <td>ทุกวัน (เวลาราชการ 8.30 น. -16.30 น.)</td>\n",
              "    </tr>\n",
              "  </tbody>\n",
              "</table>\n",
              "</div>"
            ],
            "text/plain": [
              "      จังหวัด  ...                             Open-Houre\n",
              "0     สระแก้ว  ...  ทุกวัน (เวลาราชการ 8.30 น. -16.30 น.)\n",
              "1     สระบุรี  ...  ทุกวัน (เวลาราชการ 8.30 น. -16.30 น.)\n",
              "2       ระยอง  ...  ทุกวัน (เวลาราชการ 8.30 น. -16.30 น.)\n",
              "3  ฉะเชิงเทรา  ...  ทุกวัน (เวลาราชการ 8.30 น. -16.30 น.)\n",
              "4        ตรัง  ...  ทุกวัน (เวลาราชการ 8.30 น. -16.30 น.)\n",
              "\n",
              "[5 rows x 4 columns]"
            ]
          },
          "metadata": {
            "tags": []
          },
          "execution_count": 31
        }
      ]
    },
    {
      "cell_type": "markdown",
      "metadata": {
        "id": "-7R-kwc0GgPq"
      },
      "source": [
        "###เพื่อดูความสัมพนธ์ว่าในแต่ละจังหวัดมีสถานที่ท่องเที่ยวอะไรบ้าง"
      ]
    },
    {
      "cell_type": "code",
      "metadata": {
        "id": "Hrx5tLgbgmNX",
        "colab": {
          "base_uri": "https://localhost:8080/"
        },
        "outputId": "f4d85835-f311-46dc-cdd5-7c4f61da852e"
      },
      "source": [
        "transacs = merged_table.groupby('Province')['Type-TH'].apply(list)\n",
        "transacs"
      ],
      "execution_count": 32,
      "outputs": [
        {
          "output_type": "execute_result",
          "data": {
            "text/plain": [
              "Province\n",
              "0              [,หมูสี ,   \",   \", ทางบก,  \",   \",   \",   \", ...\n",
              " เชียงราย                             [สวนรุกขชาติ, สวนรุกขชาติ]\n",
              "กระบี่         [ทางบก, ทางบก, ทางบก, ทางบก, ทางบก, ทางบก, ทาง...\n",
              "กาญจนบุรี                                                [ทางบก]\n",
              "กาญจนบุรี      [ทางบก, ทางบก, ทางบก, ทางบก, ทางบก, ทางบก, ทาง...\n",
              "                                     ...                        \n",
              "เลย            [ทางบก, ทางบก, ทางบก, ทางบก, ทางบก, ทางบก, ทาง...\n",
              "แพร่                     [สวนรุกขชาติ, สวนรุกขชาติ, สวนรุกขชาติ]\n",
              "แพร่           [ทางบก, ทางบก, ทางบก, ทางบก, ทางบก, ทางบก, ทาง...\n",
              "แม่ฮ่องสอน     [สวนรุกขชาติ, สวนรุกขชาติ, สวนรุกขชาติ, สวนรุก...\n",
              "แม่ฮ่องสอน     [ทางบก, ทางบก, ทางบก, ทางบก, ทางบก, ทางบก, ทาง...\n",
              "Name: Type-TH, Length: 99, dtype: object"
            ]
          },
          "metadata": {
            "tags": []
          },
          "execution_count": 32
        }
      ]
    },
    {
      "cell_type": "markdown",
      "metadata": {
        "id": "CC2gwi7DGoia"
      },
      "source": [
        "##Apriori"
      ]
    },
    {
      "cell_type": "code",
      "metadata": {
        "colab": {
          "base_uri": "https://localhost:8080/"
        },
        "id": "3NAuqeoPGfn8",
        "outputId": "f1e6e18a-5949-45fa-95a5-0d45ccfaba2c"
      },
      "source": [
        "!pip install apyori"
      ],
      "execution_count": 51,
      "outputs": [
        {
          "output_type": "stream",
          "text": [
            "Requirement already satisfied: apyori in /usr/local/lib/python3.6/dist-packages (1.1.2)\n"
          ],
          "name": "stdout"
        }
      ]
    },
    {
      "cell_type": "code",
      "metadata": {
        "id": "P7De6Kq2Gwno"
      },
      "source": [
        "from apyori import apriori"
      ],
      "execution_count": 53,
      "outputs": []
    },
    {
      "cell_type": "code",
      "metadata": {
        "id": "gVg0ITdmGzET",
        "outputId": "dc48d325-5c44-40f1-d24a-8c9c99f9f355",
        "colab": {
          "base_uri": "https://localhost:8080/",
          "height": 305
        }
      },
      "source": [
        "list(apriori(transacs, min_support = 0.03, min_confidence = 0.01))"
      ],
      "execution_count": 54,
      "outputs": [
        {
          "output_type": "error",
          "ename": "TypeError",
          "evalue": "ignored",
          "traceback": [
            "\u001b[0;31m---------------------------------------------------------------------------\u001b[0m",
            "\u001b[0;31mTypeError\u001b[0m                                 Traceback (most recent call last)",
            "\u001b[0;32m<ipython-input-54-5891ae9b72d1>\u001b[0m in \u001b[0;36m<module>\u001b[0;34m()\u001b[0m\n\u001b[0;32m----> 1\u001b[0;31m \u001b[0mlist\u001b[0m\u001b[0;34m(\u001b[0m\u001b[0mapriori\u001b[0m\u001b[0;34m(\u001b[0m\u001b[0mtransacs\u001b[0m\u001b[0;34m,\u001b[0m \u001b[0mmin_support\u001b[0m \u001b[0;34m=\u001b[0m \u001b[0;36m0.03\u001b[0m\u001b[0;34m,\u001b[0m \u001b[0mmin_confidence\u001b[0m \u001b[0;34m=\u001b[0m \u001b[0;36m0.01\u001b[0m\u001b[0;34m)\u001b[0m\u001b[0;34m)\u001b[0m\u001b[0;34m\u001b[0m\u001b[0;34m\u001b[0m\u001b[0m\n\u001b[0m",
            "\u001b[0;32m/usr/local/lib/python3.6/dist-packages/apyori.py\u001b[0m in \u001b[0;36mapriori\u001b[0;34m(transactions, **kwargs)\u001b[0m\n\u001b[1;32m    284\u001b[0m \u001b[0;34m\u001b[0m\u001b[0m\n\u001b[1;32m    285\u001b[0m     \u001b[0;31m# Calculate ordered stats.\u001b[0m\u001b[0;34m\u001b[0m\u001b[0;34m\u001b[0m\u001b[0;34m\u001b[0m\u001b[0m\n\u001b[0;32m--> 286\u001b[0;31m     \u001b[0;32mfor\u001b[0m \u001b[0msupport_record\u001b[0m \u001b[0;32min\u001b[0m \u001b[0msupport_records\u001b[0m\u001b[0;34m:\u001b[0m\u001b[0;34m\u001b[0m\u001b[0;34m\u001b[0m\u001b[0m\n\u001b[0m\u001b[1;32m    287\u001b[0m         ordered_statistics = list(\n\u001b[1;32m    288\u001b[0m             _filter_ordered_statistics(\n",
            "\u001b[0;32m/usr/local/lib/python3.6/dist-packages/apyori.py\u001b[0m in \u001b[0;36mgen_support_records\u001b[0;34m(transaction_manager, min_support, **kwargs)\u001b[0m\n\u001b[1;32m    183\u001b[0m \u001b[0;34m\u001b[0m\u001b[0m\n\u001b[1;32m    184\u001b[0m     \u001b[0;31m# Process.\u001b[0m\u001b[0;34m\u001b[0m\u001b[0;34m\u001b[0m\u001b[0;34m\u001b[0m\u001b[0m\n\u001b[0;32m--> 185\u001b[0;31m     \u001b[0mcandidates\u001b[0m \u001b[0;34m=\u001b[0m \u001b[0mtransaction_manager\u001b[0m\u001b[0;34m.\u001b[0m\u001b[0minitial_candidates\u001b[0m\u001b[0;34m(\u001b[0m\u001b[0;34m)\u001b[0m\u001b[0;34m\u001b[0m\u001b[0;34m\u001b[0m\u001b[0m\n\u001b[0m\u001b[1;32m    186\u001b[0m     \u001b[0mlength\u001b[0m \u001b[0;34m=\u001b[0m \u001b[0;36m1\u001b[0m\u001b[0;34m\u001b[0m\u001b[0;34m\u001b[0m\u001b[0m\n\u001b[1;32m    187\u001b[0m     \u001b[0;32mwhile\u001b[0m \u001b[0mcandidates\u001b[0m\u001b[0;34m:\u001b[0m\u001b[0;34m\u001b[0m\u001b[0;34m\u001b[0m\u001b[0m\n",
            "\u001b[0;32m/usr/local/lib/python3.6/dist-packages/apyori.py\u001b[0m in \u001b[0;36minitial_candidates\u001b[0;34m(self)\u001b[0m\n\u001b[1;32m     95\u001b[0m         \u001b[0mReturns\u001b[0m \u001b[0mthe\u001b[0m \u001b[0minitial\u001b[0m \u001b[0mcandidates\u001b[0m\u001b[0;34m.\u001b[0m\u001b[0;34m\u001b[0m\u001b[0;34m\u001b[0m\u001b[0m\n\u001b[1;32m     96\u001b[0m         \"\"\"\n\u001b[0;32m---> 97\u001b[0;31m         \u001b[0;32mreturn\u001b[0m \u001b[0;34m[\u001b[0m\u001b[0mfrozenset\u001b[0m\u001b[0;34m(\u001b[0m\u001b[0;34m[\u001b[0m\u001b[0mitem\u001b[0m\u001b[0;34m]\u001b[0m\u001b[0;34m)\u001b[0m \u001b[0;32mfor\u001b[0m \u001b[0mitem\u001b[0m \u001b[0;32min\u001b[0m \u001b[0mself\u001b[0m\u001b[0;34m.\u001b[0m\u001b[0mitems\u001b[0m\u001b[0;34m]\u001b[0m\u001b[0;34m\u001b[0m\u001b[0;34m\u001b[0m\u001b[0m\n\u001b[0m\u001b[1;32m     98\u001b[0m \u001b[0;34m\u001b[0m\u001b[0m\n\u001b[1;32m     99\u001b[0m     \u001b[0;34m@\u001b[0m\u001b[0mproperty\u001b[0m\u001b[0;34m\u001b[0m\u001b[0;34m\u001b[0m\u001b[0m\n",
            "\u001b[0;32m/usr/local/lib/python3.6/dist-packages/apyori.py\u001b[0m in \u001b[0;36mitems\u001b[0;34m(self)\u001b[0m\n\u001b[1;32m    109\u001b[0m         \u001b[0mReturns\u001b[0m \u001b[0mthe\u001b[0m \u001b[0mitem\u001b[0m \u001b[0mlist\u001b[0m \u001b[0mthat\u001b[0m \u001b[0mthe\u001b[0m \u001b[0mtransaction\u001b[0m \u001b[0;32mis\u001b[0m \u001b[0mconsisted\u001b[0m \u001b[0mof\u001b[0m\u001b[0;34m.\u001b[0m\u001b[0;34m\u001b[0m\u001b[0;34m\u001b[0m\u001b[0m\n\u001b[1;32m    110\u001b[0m         \"\"\"\n\u001b[0;32m--> 111\u001b[0;31m         \u001b[0;32mreturn\u001b[0m \u001b[0msorted\u001b[0m\u001b[0;34m(\u001b[0m\u001b[0mself\u001b[0m\u001b[0;34m.\u001b[0m\u001b[0m__items\u001b[0m\u001b[0;34m)\u001b[0m\u001b[0;34m\u001b[0m\u001b[0;34m\u001b[0m\u001b[0m\n\u001b[0m\u001b[1;32m    112\u001b[0m \u001b[0;34m\u001b[0m\u001b[0m\n\u001b[1;32m    113\u001b[0m     \u001b[0;34m@\u001b[0m\u001b[0mstaticmethod\u001b[0m\u001b[0;34m\u001b[0m\u001b[0;34m\u001b[0m\u001b[0m\n",
            "\u001b[0;31mTypeError\u001b[0m: '<' not supported between instances of 'float' and 'str'"
          ]
        }
      ]
    }
  ]
}